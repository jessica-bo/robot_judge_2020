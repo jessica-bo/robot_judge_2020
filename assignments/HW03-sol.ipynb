{
 "cells": [
  {
   "cell_type": "markdown",
   "metadata": {},
   "source": [
    "# HW03 (due October 12th)"
   ]
  },
  {
   "cell_type": "markdown",
   "metadata": {},
   "source": [
    "Goal: estimate the effect of Union status on hours worked"
   ]
  },
  {
   "cell_type": "markdown",
   "metadata": {},
   "source": [
    "# Load Data"
   ]
  },
  {
   "cell_type": "code",
   "execution_count": 1,
   "metadata": {},
   "outputs": [
    {
     "name": "stdout",
     "output_type": "stream",
     "text": [
      "\n",
      "(National Longitudinal Survey.  Young Women 14-26 years of age in 1968)\n",
      "\n",
      "\n"
     ]
    }
   ],
   "source": [
    "// Load the NLSY dataset\n",
    "webuse nlswork, clear\n",
    "\n",
    "grstyle init\n",
    "grstyle set plain, horizontal grid"
   ]
  },
  {
   "cell_type": "code",
   "execution_count": 2,
   "metadata": {},
   "outputs": [
    {
     "name": "stdout",
     "output_type": "stream",
     "text": [
      "\n",
      "Contains data from https://www.stata-press.com/data/r16/nlswork.dta\n",
      "  obs:        28,534                          National Longitudinal Survey.\n",
      "                                                Young Women 14-26 years of age\n",
      "                                                in 1968\n",
      " vars:            21                          27 Nov 2018 08:14\n",
      "--------------------------------------------------------------------------------\n",
      "              storage   display    value\n",
      "variable name   type    format     label      variable label\n",
      "--------------------------------------------------------------------------------\n",
      "idcode          int     %8.0g                 NLS ID\n",
      "year            byte    %8.0g                 interview year\n",
      "birth_yr        byte    %8.0g                 birth year\n",
      "age             byte    %8.0g                 age in current year\n",
      "race            byte    %8.0g      racelbl    race\n",
      "msp             byte    %8.0g                 1 if married, spouse present\n",
      "nev_mar         byte    %8.0g                 1 if never married\n",
      "grade           byte    %8.0g                 current grade completed\n",
      "collgrad        byte    %8.0g                 1 if college graduate\n",
      "not_smsa        byte    %8.0g                 1 if not SMSA\n",
      "c_city          byte    %8.0g                 1 if central city\n",
      "south           byte    %8.0g                 1 if south\n",
      "ind_code        byte    %8.0g                 industry of employment\n",
      "occ_code        byte    %8.0g                 occupation\n",
      "union           byte    %8.0g                 1 if union\n",
      "wks_ue          byte    %8.0g                 weeks unemployed last year\n",
      "ttl_exp         float   %9.0g                 total work experience\n",
      "tenure          float   %9.0g                 job tenure, in years\n",
      "hours           int     %8.0g                 usual hours worked\n",
      "wks_work        int     %8.0g                 weeks worked last year\n",
      "ln_wage         float   %9.0g                 ln(wage/GNP deflator)\n",
      "--------------------------------------------------------------------------------\n",
      "Sorted by: idcode  year\n"
     ]
    }
   ],
   "source": [
    "de"
   ]
  },
  {
   "cell_type": "markdown",
   "metadata": {},
   "source": [
    "#  Summary statistics"
   ]
  },
  {
   "cell_type": "code",
   "execution_count": 3,
   "metadata": {},
   "outputs": [
    {
     "name": "stdout",
     "output_type": "stream",
     "text": [
      "\n",
      "    Variable |        Obs        Mean    Std. Dev.       Min        Max\n",
      "-------------+---------------------------------------------------------\n",
      "      idcode |     28,534    2601.284    1487.359          1       5159\n",
      "        year |     28,534    77.95865    6.383879         68         88\n",
      "    birth_yr |     28,534    48.08509    3.012837         41         54\n",
      "         age |     28,510    29.04511    6.700584         14         46\n",
      "        race |     28,534    1.303392    .4822773          1          3\n",
      "-------------+---------------------------------------------------------\n",
      "         msp |     28,518    .6029175    .4893019          0          1\n",
      "     nev_mar |     28,518    .2296795    .4206341          0          1\n",
      "       grade |     28,532    12.53259    2.323905          0         18\n",
      "    collgrad |     28,534    .1680451    .3739129          0          1\n",
      "    not_smsa |     28,526    .2824441    .4501961          0          1\n",
      "-------------+---------------------------------------------------------\n",
      "      c_city |     28,526     .357218    .4791882          0          1\n",
      "       south |     28,526    .4095562    .4917605          0          1\n",
      "    ind_code |     28,193    7.692973    2.994025          1         12\n",
      "    occ_code |     28,413    4.777672    3.065435          1         13\n",
      "       union |     19,238    .2344319    .4236542          0          1\n",
      "-------------+---------------------------------------------------------\n",
      "      wks_ue |     22,830    2.548095    7.294463          0         76\n",
      "     ttl_exp |     28,534    6.215316    4.652117          0   28.88461\n",
      "      tenure |     28,101    3.123836    3.751409          0   25.91667\n",
      "       hours |     28,467    36.55956    9.869623          1        168\n",
      "    wks_work |     27,831    53.98933    29.03232          0        104\n",
      "-------------+---------------------------------------------------------\n",
      "     ln_wage |     28,534    1.674907    .4780935          0   5.263916\n"
     ]
    }
   ],
   "source": [
    "// Summarize the dataset\n",
    "su"
   ]
  },
  {
   "cell_type": "code",
   "execution_count": 4,
   "metadata": {},
   "outputs": [
    {
     "name": "stdout",
     "output_type": "stream",
     "text": [
      "\n",
      "      1 if |\n",
      "   college |      1 if union\n",
      "  graduate |         0          1 |     Total\n",
      "-----------+----------------------+----------\n",
      "         0 |    12,067      3,413 |    15,480 \n",
      "         1 |     2,661      1,097 |     3,758 \n",
      "-----------+----------------------+----------\n",
      "     Total |    14,728      4,510 |    19,238 \n"
     ]
    }
   ],
   "source": [
    "// tabulate college and union status\n",
    "tab collgrad union"
   ]
  },
  {
   "cell_type": "code",
   "execution_count": 5,
   "metadata": {},
   "outputs": [
    {
     "name": "stdout",
     "output_type": "stream",
     "text": [
      "(67 missing values generated)\n"
     ]
    }
   ],
   "source": [
    "// generate a variable for log hours worked\n",
    "gen hours_log = log(hours)"
   ]
  },
  {
   "cell_type": "code",
   "execution_count": 12,
   "metadata": {},
   "outputs": [
    {
     "data": {
      "application/pdf": "[encoded data removed]",
      "image/svg+xml": [
       "<?xml version=\"1.0\" encoding=\"UTF-8\" standalone=\"no\"?>\n",
       "<!-- This is a Stata 16.1 generated SVG file (http://www.stata.com) -->\n",
       "\n",
       "<svg version=\"1.1\" width=\"600px\" height=\"436px\" viewBox=\"0 0 3960 2880\" xmlns=\"http://www.w3.org/2000/svg\" xmlns:xlink=\"http://www.w3.org/1999/xlink\">\n",
       "\t<desc>Stata Graph - Graph</desc>\n",
       "\t<rect x=\"0\" y=\"0\" width=\"3960\" height=\"2880\" style=\"fill:#FFFFFF;stroke:none\"/>\n",
       "\t<rect x=\"0.00\" y=\"0.00\" width=\"3959.88\" height=\"2880.00\" style=\"fill:#FFFFFF\"/>\n",
       "\t<rect x=\"2.88\" y=\"2.88\" width=\"3954.12\" height=\"2874.24\" style=\"fill:none;stroke:#FFFFFF;stroke-width:5.76\"/>\n",
       "\t<line x1=\"434.61\" y1=\"2170.27\" x2=\"3859.02\" y2=\"2170.27\" style=\"stroke:#E8E8E8;stroke-width:5.76\"/>\n",
       "\t<line x1=\"434.61\" y1=\"1691.96\" x2=\"3859.02\" y2=\"1691.96\" style=\"stroke:#E8E8E8;stroke-width:5.76\"/>\n",
       "\t<line x1=\"434.61\" y1=\"1213.65\" x2=\"3859.02\" y2=\"1213.65\" style=\"stroke:#E8E8E8;stroke-width:5.76\"/>\n",
       "\t<line x1=\"434.61\" y1=\"735.22\" x2=\"3859.02\" y2=\"735.22\" style=\"stroke:#E8E8E8;stroke-width:5.76\"/>\n",
       "\t<line x1=\"434.61\" y1=\"256.91\" x2=\"3859.02\" y2=\"256.91\" style=\"stroke:#E8E8E8;stroke-width:5.76\"/>\n",
       "\t<line x1=\"497.97\" y1=\"2233.63\" x2=\"497.97\" y2=\"100.86\" style=\"stroke:#E8E8E8;stroke-width:5.76\"/>\n",
       "\t<line x1=\"1322.39\" y1=\"2233.63\" x2=\"1322.39\" y2=\"100.86\" style=\"stroke:#E8E8E8;stroke-width:5.76\"/>\n",
       "\t<line x1=\"2146.82\" y1=\"2233.63\" x2=\"2146.82\" y2=\"100.86\" style=\"stroke:#E8E8E8;stroke-width:5.76\"/>\n",
       "\t<line x1=\"2971.24\" y1=\"2233.63\" x2=\"2971.24\" y2=\"100.86\" style=\"stroke:#E8E8E8;stroke-width:5.76\"/>\n",
       "\t<line x1=\"3795.66\" y1=\"2233.63\" x2=\"3795.66\" y2=\"100.86\" style=\"stroke:#E8E8E8;stroke-width:5.76\"/>\n",
       "\t<path d=\" M497.97 646.61 L662.80 1065.64 L827.64 1203.51 L992.60 1345.45 L1652.19 1809.65 L1817.02 1537.64 L2146.82 1778.84 L2476.61 2043.92 L2641.44 1999.61 L2971.24 1571.06 L3301.03 1462.52 L3465.87 1055.62\" stroke-linejoin=\"round\" style=\"fill:none;stroke:#1A476F;stroke-width:8.64\"/>\n",
       "\t<circle cx=\"497.97\" cy=\"646.61\" r=\"26.35\" style=\"fill:#1A476F\"/>\n",
       "\t<circle cx=\"497.97\" cy=\"646.61\" r=\"22.03\" style=\"fill:none;stroke:#1A476F;stroke-width:8.64\"/>\n",
       "\t<circle cx=\"662.80\" cy=\"1065.64\" r=\"26.35\" style=\"fill:#1A476F\"/>\n",
       "\t<circle cx=\"662.80\" cy=\"1065.64\" r=\"22.03\" style=\"fill:none;stroke:#1A476F;stroke-width:8.64\"/>\n",
       "\t<circle cx=\"827.64\" cy=\"1203.51\" r=\"26.35\" style=\"fill:#1A476F\"/>\n",
       "\t<circle cx=\"827.64\" cy=\"1203.51\" r=\"22.03\" style=\"fill:none;stroke:#1A476F;stroke-width:8.64\"/>\n",
       "\t<circle cx=\"992.60\" cy=\"1345.45\" r=\"26.35\" style=\"fill:#1A476F\"/>\n",
       "\t<circle cx=\"992.60\" cy=\"1345.45\" r=\"22.03\" style=\"fill:none;stroke:#1A476F;stroke-width:8.64\"/>\n",
       "\t<circle cx=\"1652.19\" cy=\"1809.65\" r=\"26.35\" style=\"fill:#1A476F\"/>\n",
       "\t<circle cx=\"1652.19\" cy=\"1809.65\" r=\"22.03\" style=\"fill:none;stroke:#1A476F;stroke-width:8.64\"/>\n",
       "\t<circle cx=\"1817.02\" cy=\"1537.64\" r=\"26.35\" style=\"fill:#1A476F\"/>\n",
       "\t<circle cx=\"1817.02\" cy=\"1537.64\" r=\"22.03\" style=\"fill:none;stroke:#1A476F;stroke-width:8.64\"/>\n",
       "\t<circle cx=\"2146.82\" cy=\"1778.84\" r=\"26.35\" style=\"fill:#1A476F\"/>\n",
       "\t<circle cx=\"2146.82\" cy=\"1778.84\" r=\"22.03\" style=\"fill:none;stroke:#1A476F;stroke-width:8.64\"/>\n",
       "\t<circle cx=\"2476.61\" cy=\"2043.92\" r=\"26.35\" style=\"fill:#1A476F\"/>\n",
       "\t<circle cx=\"2476.61\" cy=\"2043.92\" r=\"22.03\" style=\"fill:none;stroke:#1A476F;stroke-width:8.64\"/>\n",
       "\t<circle cx=\"2641.44\" cy=\"1999.61\" r=\"26.35\" style=\"fill:#1A476F\"/>\n",
       "\t<circle cx=\"2641.44\" cy=\"1999.61\" r=\"22.03\" style=\"fill:none;stroke:#1A476F;stroke-width:8.64\"/>\n",
       "\t<circle cx=\"2971.24\" cy=\"1571.06\" r=\"26.35\" style=\"fill:#1A476F\"/>\n",
       "\t<circle cx=\"2971.24\" cy=\"1571.06\" r=\"22.03\" style=\"fill:none;stroke:#1A476F;stroke-width:8.64\"/>\n",
       "\t<circle cx=\"3301.03\" cy=\"1462.52\" r=\"26.35\" style=\"fill:#1A476F\"/>\n",
       "\t<circle cx=\"3301.03\" cy=\"1462.52\" r=\"22.03\" style=\"fill:none;stroke:#1A476F;stroke-width:8.64\"/>\n",
       "\t<circle cx=\"3465.87\" cy=\"1055.62\" r=\"26.35\" style=\"fill:#1A476F\"/>\n",
       "\t<circle cx=\"3465.87\" cy=\"1055.62\" r=\"22.03\" style=\"fill:none;stroke:#1A476F;stroke-width:8.64\"/>\n",
       "\t<path d=\" M497.97 496.13 L662.80 164.22 L827.64 488.70 L992.60 512.22 L1652.19 837.19 L1817.02 528.68 L2146.82 783.36 L2476.61 935.70 L2641.44 743.76 L2971.24 762.57 L3301.03 452.32 L3465.87 426.70\" stroke-linejoin=\"round\" style=\"fill:none;stroke:#90353B;stroke-width:8.64\"/>\n",
       "\t<circle cx=\"497.97\" cy=\"496.13\" r=\"26.35\" style=\"fill:#90353B\"/>\n",
       "\t<circle cx=\"497.97\" cy=\"496.13\" r=\"22.03\" style=\"fill:none;stroke:#90353B;stroke-width:8.64\"/>\n",
       "\t<circle cx=\"662.80\" cy=\"164.22\" r=\"26.35\" style=\"fill:#90353B\"/>\n",
       "\t<circle cx=\"662.80\" cy=\"164.22\" r=\"22.03\" style=\"fill:none;stroke:#90353B;stroke-width:8.64\"/>\n",
       "\t<circle cx=\"827.64\" cy=\"488.70\" r=\"26.35\" style=\"fill:#90353B\"/>\n",
       "\t<circle cx=\"827.64\" cy=\"488.70\" r=\"22.03\" style=\"fill:none;stroke:#90353B;stroke-width:8.64\"/>\n",
       "\t<circle cx=\"992.60\" cy=\"512.22\" r=\"26.35\" style=\"fill:#90353B\"/>\n",
       "\t<circle cx=\"992.60\" cy=\"512.22\" r=\"22.03\" style=\"fill:none;stroke:#90353B;stroke-width:8.64\"/>\n",
       "\t<circle cx=\"1652.19\" cy=\"837.19\" r=\"26.35\" style=\"fill:#90353B\"/>\n",
       "\t<circle cx=\"1652.19\" cy=\"837.19\" r=\"22.03\" style=\"fill:none;stroke:#90353B;stroke-width:8.64\"/>\n",
       "\t<circle cx=\"1817.02\" cy=\"528.68\" r=\"26.35\" style=\"fill:#90353B\"/>\n",
       "\t<circle cx=\"1817.02\" cy=\"528.68\" r=\"22.03\" style=\"fill:none;stroke:#90353B;stroke-width:8.64\"/>\n",
       "\t<circle cx=\"2146.82\" cy=\"783.36\" r=\"26.35\" style=\"fill:#90353B\"/>\n",
       "\t<circle cx=\"2146.82\" cy=\"783.36\" r=\"22.03\" style=\"fill:none;stroke:#90353B;stroke-width:8.64\"/>\n",
       "\t<circle cx=\"2476.61\" cy=\"935.70\" r=\"26.35\" style=\"fill:#90353B\"/>\n",
       "\t<circle cx=\"2476.61\" cy=\"935.70\" r=\"22.03\" style=\"fill:none;stroke:#90353B;stroke-width:8.64\"/>\n",
       "\t<circle cx=\"2641.44\" cy=\"743.76\" r=\"26.35\" style=\"fill:#90353B\"/>\n",
       "\t<circle cx=\"2641.44\" cy=\"743.76\" r=\"22.03\" style=\"fill:none;stroke:#90353B;stroke-width:8.64\"/>\n",
       "\t<circle cx=\"2971.24\" cy=\"762.57\" r=\"26.35\" style=\"fill:#90353B\"/>\n",
       "\t<circle cx=\"2971.24\" cy=\"762.57\" r=\"22.03\" style=\"fill:none;stroke:#90353B;stroke-width:8.64\"/>\n",
       "\t<circle cx=\"3301.03\" cy=\"452.32\" r=\"26.35\" style=\"fill:#90353B\"/>\n",
       "\t<circle cx=\"3301.03\" cy=\"452.32\" r=\"22.03\" style=\"fill:none;stroke:#90353B;stroke-width:8.64\"/>\n",
       "\t<circle cx=\"3465.87\" cy=\"426.70\" r=\"26.35\" style=\"fill:#90353B\"/>\n",
       "\t<circle cx=\"3465.87\" cy=\"426.70\" r=\"22.03\" style=\"fill:none;stroke:#90353B;stroke-width:8.64\"/>\n",
       "\t<line x1=\"434.61\" y1=\"2233.63\" x2=\"434.61\" y2=\"100.86\" style=\"stroke:#000000;stroke-width:5.76\"/>\n",
       "\t<line x1=\"434.61\" y1=\"2170.27\" x2=\"394.64\" y2=\"2170.27\" style=\"stroke:#000000;stroke-width:5.76\"/>\n",
       "\t<text x=\"374.59\" y=\"2205.30\" style=\"font-family:'Helvetica';font-size:99.99px;fill:#000000\" text-anchor=\"end\">35</text>\n",
       "\t<line x1=\"434.61\" y1=\"1691.96\" x2=\"394.64\" y2=\"1691.96\" style=\"stroke:#000000;stroke-width:5.76\"/>\n",
       "\t<text x=\"374.59\" y=\"1726.99\" style=\"font-family:'Helvetica';font-size:99.99px;fill:#000000\" text-anchor=\"end\">36</text>\n",
       "\t<line x1=\"434.61\" y1=\"1213.65\" x2=\"394.64\" y2=\"1213.65\" style=\"stroke:#000000;stroke-width:5.76\"/>\n",
       "\t<text x=\"374.59\" y=\"1248.68\" style=\"font-family:'Helvetica';font-size:99.99px;fill:#000000\" text-anchor=\"end\">37</text>\n",
       "\t<line x1=\"434.61\" y1=\"735.22\" x2=\"394.64\" y2=\"735.22\" style=\"stroke:#000000;stroke-width:5.76\"/>\n",
       "\t<text x=\"374.59\" y=\"770.25\" style=\"font-family:'Helvetica';font-size:99.99px;fill:#000000\" text-anchor=\"end\">38</text>\n",
       "\t<line x1=\"434.61\" y1=\"256.91\" x2=\"394.64\" y2=\"256.91\" style=\"stroke:#000000;stroke-width:5.76\"/>\n",
       "\t<text x=\"374.59\" y=\"291.94\" style=\"font-family:'Helvetica';font-size:99.99px;fill:#000000\" text-anchor=\"end\">39</text>\n",
       "\t<text x=\"190.71\" y=\"1167.25\" style=\"font-family:'Helvetica';font-size:99.99px;fill:#000000\" transform=\"rotate(-90 190.71,1167.25)\" text-anchor=\"middle\">Mean usual hours worked</text>\n",
       "\t<line x1=\"434.61\" y1=\"2233.63\" x2=\"3859.02\" y2=\"2233.63\" style=\"stroke:#000000;stroke-width:5.76\"/>\n",
       "\t<line x1=\"497.97\" y1=\"2233.63\" x2=\"497.97\" y2=\"2273.73\" style=\"stroke:#000000;stroke-width:5.76\"/>\n",
       "\t<text x=\"497.97\" y=\"2363.59\" style=\"font-family:'Helvetica';font-size:99.99px;fill:#000000\" text-anchor=\"middle\">70</text>\n",
       "\t<line x1=\"1322.39\" y1=\"2233.63\" x2=\"1322.39\" y2=\"2273.73\" style=\"stroke:#000000;stroke-width:5.76\"/>\n",
       "\t<text x=\"1322.39\" y=\"2363.59\" style=\"font-family:'Helvetica';font-size:99.99px;fill:#000000\" text-anchor=\"middle\">75</text>\n",
       "\t<line x1=\"2146.82\" y1=\"2233.63\" x2=\"2146.82\" y2=\"2273.73\" style=\"stroke:#000000;stroke-width:5.76\"/>\n",
       "\t<text x=\"2146.82\" y=\"2363.59\" style=\"font-family:'Helvetica';font-size:99.99px;fill:#000000\" text-anchor=\"middle\">80</text>\n",
       "\t<line x1=\"2971.24\" y1=\"2233.63\" x2=\"2971.24\" y2=\"2273.73\" style=\"stroke:#000000;stroke-width:5.76\"/>\n",
       "\t<text x=\"2971.24\" y=\"2363.59\" style=\"font-family:'Helvetica';font-size:99.99px;fill:#000000\" text-anchor=\"middle\">85</text>\n",
       "\t<line x1=\"3795.66\" y1=\"2233.63\" x2=\"3795.66\" y2=\"2273.73\" style=\"stroke:#000000;stroke-width:5.76\"/>\n",
       "\t<text x=\"3795.66\" y=\"2363.59\" style=\"font-family:'Helvetica';font-size:99.99px;fill:#000000\" text-anchor=\"middle\">90</text>\n",
       "\t<text x=\"2146.82\" y=\"2473.60\" style=\"font-family:'Helvetica';font-size:99.99px;fill:#000000\" text-anchor=\"middle\">Year of Interview</text>\n",
       "\t<rect x=\"1225.00\" y=\"2558.24\" width=\"1843.75\" height=\"186.37\" style=\"fill:#FFFFFF\"/>\n",
       "\t<rect x=\"1227.88\" y=\"2561.12\" width=\"1837.99\" height=\"180.61\" style=\"fill:none;stroke:#000000;stroke-width:5.76\"/>\n",
       "\t<line x1=\"1268.19\" y1=\"2651.43\" x2=\"1642.53\" y2=\"2651.43\" style=\"stroke:#1A476F;stroke-width:8.64\"/>\n",
       "\t<circle cx=\"1455.30\" cy=\"2651.43\" r=\"26.35\" style=\"fill:#1A476F\"/>\n",
       "\t<circle cx=\"1455.30\" cy=\"2651.43\" r=\"22.03\" style=\"fill:none;stroke:#1A476F;stroke-width:8.64\"/>\n",
       "\t<line x1=\"2326.62\" y1=\"2651.43\" x2=\"2700.97\" y2=\"2651.43\" style=\"stroke:#90353B;stroke-width:8.64\"/>\n",
       "\t<circle cx=\"2513.73\" cy=\"2651.43\" r=\"26.35\" style=\"fill:#90353B\"/>\n",
       "\t<circle cx=\"2513.73\" cy=\"2651.43\" r=\"22.03\" style=\"fill:none;stroke:#90353B;stroke-width:8.64\"/>\n",
       "\t<text x=\"1702.55\" y=\"2686.46\" style=\"font-family:'Helvetica';font-size:99.99px;fill:#000000\">Non-Union</text>\n",
       "\t<text x=\"2760.99\" y=\"2686.46\" style=\"font-family:'Helvetica';font-size:99.99px;fill:#000000\">Union</text>\n",
       "</svg>\n"
      ],
      "text/html": [
       "                <iframe frameborder=\"0\" scrolling=\"no\" height=\"436\" width=\"600\"                srcdoc=\"<html><body>&lt;?xml version=&quot;1.0&quot; encoding=&quot;UTF-8&quot; standalone=&quot;no&quot;?&gt;\n",
       "&lt;!-- This is a Stata 16.1 generated SVG file (http://www.stata.com) --&gt;\n",
       "\n",
       "&lt;svg version=&quot;1.1&quot; width=&quot;600px&quot; height=&quot;436px&quot; viewBox=&quot;0 0 3960 2880&quot; xmlns=&quot;http://www.w3.org/2000/svg&quot; xmlns:xlink=&quot;http://www.w3.org/1999/xlink&quot;&gt;\n",
       "\t&lt;desc&gt;Stata Graph - Graph&lt;/desc&gt;\n",
       "\t&lt;rect x=&quot;0&quot; y=&quot;0&quot; width=&quot;3960&quot; height=&quot;2880&quot; style=&quot;fill:#FFFFFF;stroke:none&quot;/&gt;\n",
       "\t&lt;rect x=&quot;0.00&quot; y=&quot;0.00&quot; width=&quot;3959.88&quot; height=&quot;2880.00&quot; style=&quot;fill:#FFFFFF&quot;/&gt;\n",
       "\t&lt;rect x=&quot;2.88&quot; y=&quot;2.88&quot; width=&quot;3954.12&quot; height=&quot;2874.24&quot; style=&quot;fill:none;stroke:#FFFFFF;stroke-width:5.76&quot;/&gt;\n",
       "\t&lt;line x1=&quot;434.61&quot; y1=&quot;2170.27&quot; x2=&quot;3859.02&quot; y2=&quot;2170.27&quot; style=&quot;stroke:#E8E8E8;stroke-width:5.76&quot;/&gt;\n",
       "\t&lt;line x1=&quot;434.61&quot; y1=&quot;1691.96&quot; x2=&quot;3859.02&quot; y2=&quot;1691.96&quot; style=&quot;stroke:#E8E8E8;stroke-width:5.76&quot;/&gt;\n",
       "\t&lt;line x1=&quot;434.61&quot; y1=&quot;1213.65&quot; x2=&quot;3859.02&quot; y2=&quot;1213.65&quot; style=&quot;stroke:#E8E8E8;stroke-width:5.76&quot;/&gt;\n",
       "\t&lt;line x1=&quot;434.61&quot; y1=&quot;735.22&quot; x2=&quot;3859.02&quot; y2=&quot;735.22&quot; style=&quot;stroke:#E8E8E8;stroke-width:5.76&quot;/&gt;\n",
       "\t&lt;line x1=&quot;434.61&quot; y1=&quot;256.91&quot; x2=&quot;3859.02&quot; y2=&quot;256.91&quot; style=&quot;stroke:#E8E8E8;stroke-width:5.76&quot;/&gt;\n",
       "\t&lt;line x1=&quot;497.97&quot; y1=&quot;2233.63&quot; x2=&quot;497.97&quot; y2=&quot;100.86&quot; style=&quot;stroke:#E8E8E8;stroke-width:5.76&quot;/&gt;\n",
       "\t&lt;line x1=&quot;1322.39&quot; y1=&quot;2233.63&quot; x2=&quot;1322.39&quot; y2=&quot;100.86&quot; style=&quot;stroke:#E8E8E8;stroke-width:5.76&quot;/&gt;\n",
       "\t&lt;line x1=&quot;2146.82&quot; y1=&quot;2233.63&quot; x2=&quot;2146.82&quot; y2=&quot;100.86&quot; style=&quot;stroke:#E8E8E8;stroke-width:5.76&quot;/&gt;\n",
       "\t&lt;line x1=&quot;2971.24&quot; y1=&quot;2233.63&quot; x2=&quot;2971.24&quot; y2=&quot;100.86&quot; style=&quot;stroke:#E8E8E8;stroke-width:5.76&quot;/&gt;\n",
       "\t&lt;line x1=&quot;3795.66&quot; y1=&quot;2233.63&quot; x2=&quot;3795.66&quot; y2=&quot;100.86&quot; style=&quot;stroke:#E8E8E8;stroke-width:5.76&quot;/&gt;\n",
       "\t&lt;path d=&quot; M497.97 646.61 L662.80 1065.64 L827.64 1203.51 L992.60 1345.45 L1652.19 1809.65 L1817.02 1537.64 L2146.82 1778.84 L2476.61 2043.92 L2641.44 1999.61 L2971.24 1571.06 L3301.03 1462.52 L3465.87 1055.62&quot; stroke-linejoin=&quot;round&quot; style=&quot;fill:none;stroke:#1A476F;stroke-width:8.64&quot;/&gt;\n",
       "\t&lt;circle cx=&quot;497.97&quot; cy=&quot;646.61&quot; r=&quot;26.35&quot; style=&quot;fill:#1A476F&quot;/&gt;\n",
       "\t&lt;circle cx=&quot;497.97&quot; cy=&quot;646.61&quot; r=&quot;22.03&quot; style=&quot;fill:none;stroke:#1A476F;stroke-width:8.64&quot;/&gt;\n",
       "\t&lt;circle cx=&quot;662.80&quot; cy=&quot;1065.64&quot; r=&quot;26.35&quot; style=&quot;fill:#1A476F&quot;/&gt;\n",
       "\t&lt;circle cx=&quot;662.80&quot; cy=&quot;1065.64&quot; r=&quot;22.03&quot; style=&quot;fill:none;stroke:#1A476F;stroke-width:8.64&quot;/&gt;\n",
       "\t&lt;circle cx=&quot;827.64&quot; cy=&quot;1203.51&quot; r=&quot;26.35&quot; style=&quot;fill:#1A476F&quot;/&gt;\n",
       "\t&lt;circle cx=&quot;827.64&quot; cy=&quot;1203.51&quot; r=&quot;22.03&quot; style=&quot;fill:none;stroke:#1A476F;stroke-width:8.64&quot;/&gt;\n",
       "\t&lt;circle cx=&quot;992.60&quot; cy=&quot;1345.45&quot; r=&quot;26.35&quot; style=&quot;fill:#1A476F&quot;/&gt;\n",
       "\t&lt;circle cx=&quot;992.60&quot; cy=&quot;1345.45&quot; r=&quot;22.03&quot; style=&quot;fill:none;stroke:#1A476F;stroke-width:8.64&quot;/&gt;\n",
       "\t&lt;circle cx=&quot;1652.19&quot; cy=&quot;1809.65&quot; r=&quot;26.35&quot; style=&quot;fill:#1A476F&quot;/&gt;\n",
       "\t&lt;circle cx=&quot;1652.19&quot; cy=&quot;1809.65&quot; r=&quot;22.03&quot; style=&quot;fill:none;stroke:#1A476F;stroke-width:8.64&quot;/&gt;\n",
       "\t&lt;circle cx=&quot;1817.02&quot; cy=&quot;1537.64&quot; r=&quot;26.35&quot; style=&quot;fill:#1A476F&quot;/&gt;\n",
       "\t&lt;circle cx=&quot;1817.02&quot; cy=&quot;1537.64&quot; r=&quot;22.03&quot; style=&quot;fill:none;stroke:#1A476F;stroke-width:8.64&quot;/&gt;\n",
       "\t&lt;circle cx=&quot;2146.82&quot; cy=&quot;1778.84&quot; r=&quot;26.35&quot; style=&quot;fill:#1A476F&quot;/&gt;\n",
       "\t&lt;circle cx=&quot;2146.82&quot; cy=&quot;1778.84&quot; r=&quot;22.03&quot; style=&quot;fill:none;stroke:#1A476F;stroke-width:8.64&quot;/&gt;\n",
       "\t&lt;circle cx=&quot;2476.61&quot; cy=&quot;2043.92&quot; r=&quot;26.35&quot; style=&quot;fill:#1A476F&quot;/&gt;\n",
       "\t&lt;circle cx=&quot;2476.61&quot; cy=&quot;2043.92&quot; r=&quot;22.03&quot; style=&quot;fill:none;stroke:#1A476F;stroke-width:8.64&quot;/&gt;\n",
       "\t&lt;circle cx=&quot;2641.44&quot; cy=&quot;1999.61&quot; r=&quot;26.35&quot; style=&quot;fill:#1A476F&quot;/&gt;\n",
       "\t&lt;circle cx=&quot;2641.44&quot; cy=&quot;1999.61&quot; r=&quot;22.03&quot; style=&quot;fill:none;stroke:#1A476F;stroke-width:8.64&quot;/&gt;\n",
       "\t&lt;circle cx=&quot;2971.24&quot; cy=&quot;1571.06&quot; r=&quot;26.35&quot; style=&quot;fill:#1A476F&quot;/&gt;\n",
       "\t&lt;circle cx=&quot;2971.24&quot; cy=&quot;1571.06&quot; r=&quot;22.03&quot; style=&quot;fill:none;stroke:#1A476F;stroke-width:8.64&quot;/&gt;\n",
       "\t&lt;circle cx=&quot;3301.03&quot; cy=&quot;1462.52&quot; r=&quot;26.35&quot; style=&quot;fill:#1A476F&quot;/&gt;\n",
       "\t&lt;circle cx=&quot;3301.03&quot; cy=&quot;1462.52&quot; r=&quot;22.03&quot; style=&quot;fill:none;stroke:#1A476F;stroke-width:8.64&quot;/&gt;\n",
       "\t&lt;circle cx=&quot;3465.87&quot; cy=&quot;1055.62&quot; r=&quot;26.35&quot; style=&quot;fill:#1A476F&quot;/&gt;\n",
       "\t&lt;circle cx=&quot;3465.87&quot; cy=&quot;1055.62&quot; r=&quot;22.03&quot; style=&quot;fill:none;stroke:#1A476F;stroke-width:8.64&quot;/&gt;\n",
       "\t&lt;path d=&quot; M497.97 496.13 L662.80 164.22 L827.64 488.70 L992.60 512.22 L1652.19 837.19 L1817.02 528.68 L2146.82 783.36 L2476.61 935.70 L2641.44 743.76 L2971.24 762.57 L3301.03 452.32 L3465.87 426.70&quot; stroke-linejoin=&quot;round&quot; style=&quot;fill:none;stroke:#90353B;stroke-width:8.64&quot;/&gt;\n",
       "\t&lt;circle cx=&quot;497.97&quot; cy=&quot;496.13&quot; r=&quot;26.35&quot; style=&quot;fill:#90353B&quot;/&gt;\n",
       "\t&lt;circle cx=&quot;497.97&quot; cy=&quot;496.13&quot; r=&quot;22.03&quot; style=&quot;fill:none;stroke:#90353B;stroke-width:8.64&quot;/&gt;\n",
       "\t&lt;circle cx=&quot;662.80&quot; cy=&quot;164.22&quot; r=&quot;26.35&quot; style=&quot;fill:#90353B&quot;/&gt;\n",
       "\t&lt;circle cx=&quot;662.80&quot; cy=&quot;164.22&quot; r=&quot;22.03&quot; style=&quot;fill:none;stroke:#90353B;stroke-width:8.64&quot;/&gt;\n",
       "\t&lt;circle cx=&quot;827.64&quot; cy=&quot;488.70&quot; r=&quot;26.35&quot; style=&quot;fill:#90353B&quot;/&gt;\n",
       "\t&lt;circle cx=&quot;827.64&quot; cy=&quot;488.70&quot; r=&quot;22.03&quot; style=&quot;fill:none;stroke:#90353B;stroke-width:8.64&quot;/&gt;\n",
       "\t&lt;circle cx=&quot;992.60&quot; cy=&quot;512.22&quot; r=&quot;26.35&quot; style=&quot;fill:#90353B&quot;/&gt;\n",
       "\t&lt;circle cx=&quot;992.60&quot; cy=&quot;512.22&quot; r=&quot;22.03&quot; style=&quot;fill:none;stroke:#90353B;stroke-width:8.64&quot;/&gt;\n",
       "\t&lt;circle cx=&quot;1652.19&quot; cy=&quot;837.19&quot; r=&quot;26.35&quot; style=&quot;fill:#90353B&quot;/&gt;\n",
       "\t&lt;circle cx=&quot;1652.19&quot; cy=&quot;837.19&quot; r=&quot;22.03&quot; style=&quot;fill:none;stroke:#90353B;stroke-width:8.64&quot;/&gt;\n",
       "\t&lt;circle cx=&quot;1817.02&quot; cy=&quot;528.68&quot; r=&quot;26.35&quot; style=&quot;fill:#90353B&quot;/&gt;\n",
       "\t&lt;circle cx=&quot;1817.02&quot; cy=&quot;528.68&quot; r=&quot;22.03&quot; style=&quot;fill:none;stroke:#90353B;stroke-width:8.64&quot;/&gt;\n",
       "\t&lt;circle cx=&quot;2146.82&quot; cy=&quot;783.36&quot; r=&quot;26.35&quot; style=&quot;fill:#90353B&quot;/&gt;\n",
       "\t&lt;circle cx=&quot;2146.82&quot; cy=&quot;783.36&quot; r=&quot;22.03&quot; style=&quot;fill:none;stroke:#90353B;stroke-width:8.64&quot;/&gt;\n",
       "\t&lt;circle cx=&quot;2476.61&quot; cy=&quot;935.70&quot; r=&quot;26.35&quot; style=&quot;fill:#90353B&quot;/&gt;\n",
       "\t&lt;circle cx=&quot;2476.61&quot; cy=&quot;935.70&quot; r=&quot;22.03&quot; style=&quot;fill:none;stroke:#90353B;stroke-width:8.64&quot;/&gt;\n",
       "\t&lt;circle cx=&quot;2641.44&quot; cy=&quot;743.76&quot; r=&quot;26.35&quot; style=&quot;fill:#90353B&quot;/&gt;\n",
       "\t&lt;circle cx=&quot;2641.44&quot; cy=&quot;743.76&quot; r=&quot;22.03&quot; style=&quot;fill:none;stroke:#90353B;stroke-width:8.64&quot;/&gt;\n",
       "\t&lt;circle cx=&quot;2971.24&quot; cy=&quot;762.57&quot; r=&quot;26.35&quot; style=&quot;fill:#90353B&quot;/&gt;\n",
       "\t&lt;circle cx=&quot;2971.24&quot; cy=&quot;762.57&quot; r=&quot;22.03&quot; style=&quot;fill:none;stroke:#90353B;stroke-width:8.64&quot;/&gt;\n",
       "\t&lt;circle cx=&quot;3301.03&quot; cy=&quot;452.32&quot; r=&quot;26.35&quot; style=&quot;fill:#90353B&quot;/&gt;\n",
       "\t&lt;circle cx=&quot;3301.03&quot; cy=&quot;452.32&quot; r=&quot;22.03&quot; style=&quot;fill:none;stroke:#90353B;stroke-width:8.64&quot;/&gt;\n",
       "\t&lt;circle cx=&quot;3465.87&quot; cy=&quot;426.70&quot; r=&quot;26.35&quot; style=&quot;fill:#90353B&quot;/&gt;\n",
       "\t&lt;circle cx=&quot;3465.87&quot; cy=&quot;426.70&quot; r=&quot;22.03&quot; style=&quot;fill:none;stroke:#90353B;stroke-width:8.64&quot;/&gt;\n",
       "\t&lt;line x1=&quot;434.61&quot; y1=&quot;2233.63&quot; x2=&quot;434.61&quot; y2=&quot;100.86&quot; style=&quot;stroke:#000000;stroke-width:5.76&quot;/&gt;\n",
       "\t&lt;line x1=&quot;434.61&quot; y1=&quot;2170.27&quot; x2=&quot;394.64&quot; y2=&quot;2170.27&quot; style=&quot;stroke:#000000;stroke-width:5.76&quot;/&gt;\n",
       "\t&lt;text x=&quot;374.59&quot; y=&quot;2205.30&quot; style=&quot;font-family:&#x27;Helvetica&#x27;;font-size:99.99px;fill:#000000&quot; text-anchor=&quot;end&quot;&gt;35&lt;/text&gt;\n",
       "\t&lt;line x1=&quot;434.61&quot; y1=&quot;1691.96&quot; x2=&quot;394.64&quot; y2=&quot;1691.96&quot; style=&quot;stroke:#000000;stroke-width:5.76&quot;/&gt;\n",
       "\t&lt;text x=&quot;374.59&quot; y=&quot;1726.99&quot; style=&quot;font-family:&#x27;Helvetica&#x27;;font-size:99.99px;fill:#000000&quot; text-anchor=&quot;end&quot;&gt;36&lt;/text&gt;\n",
       "\t&lt;line x1=&quot;434.61&quot; y1=&quot;1213.65&quot; x2=&quot;394.64&quot; y2=&quot;1213.65&quot; style=&quot;stroke:#000000;stroke-width:5.76&quot;/&gt;\n",
       "\t&lt;text x=&quot;374.59&quot; y=&quot;1248.68&quot; style=&quot;font-family:&#x27;Helvetica&#x27;;font-size:99.99px;fill:#000000&quot; text-anchor=&quot;end&quot;&gt;37&lt;/text&gt;\n",
       "\t&lt;line x1=&quot;434.61&quot; y1=&quot;735.22&quot; x2=&quot;394.64&quot; y2=&quot;735.22&quot; style=&quot;stroke:#000000;stroke-width:5.76&quot;/&gt;\n",
       "\t&lt;text x=&quot;374.59&quot; y=&quot;770.25&quot; style=&quot;font-family:&#x27;Helvetica&#x27;;font-size:99.99px;fill:#000000&quot; text-anchor=&quot;end&quot;&gt;38&lt;/text&gt;\n",
       "\t&lt;line x1=&quot;434.61&quot; y1=&quot;256.91&quot; x2=&quot;394.64&quot; y2=&quot;256.91&quot; style=&quot;stroke:#000000;stroke-width:5.76&quot;/&gt;\n",
       "\t&lt;text x=&quot;374.59&quot; y=&quot;291.94&quot; style=&quot;font-family:&#x27;Helvetica&#x27;;font-size:99.99px;fill:#000000&quot; text-anchor=&quot;end&quot;&gt;39&lt;/text&gt;\n",
       "\t&lt;text x=&quot;190.71&quot; y=&quot;1167.25&quot; style=&quot;font-family:&#x27;Helvetica&#x27;;font-size:99.99px;fill:#000000&quot; transform=&quot;rotate(-90 190.71,1167.25)&quot; text-anchor=&quot;middle&quot;&gt;Mean usual hours worked&lt;/text&gt;\n",
       "\t&lt;line x1=&quot;434.61&quot; y1=&quot;2233.63&quot; x2=&quot;3859.02&quot; y2=&quot;2233.63&quot; style=&quot;stroke:#000000;stroke-width:5.76&quot;/&gt;\n",
       "\t&lt;line x1=&quot;497.97&quot; y1=&quot;2233.63&quot; x2=&quot;497.97&quot; y2=&quot;2273.73&quot; style=&quot;stroke:#000000;stroke-width:5.76&quot;/&gt;\n",
       "\t&lt;text x=&quot;497.97&quot; y=&quot;2363.59&quot; style=&quot;font-family:&#x27;Helvetica&#x27;;font-size:99.99px;fill:#000000&quot; text-anchor=&quot;middle&quot;&gt;70&lt;/text&gt;\n",
       "\t&lt;line x1=&quot;1322.39&quot; y1=&quot;2233.63&quot; x2=&quot;1322.39&quot; y2=&quot;2273.73&quot; style=&quot;stroke:#000000;stroke-width:5.76&quot;/&gt;\n",
       "\t&lt;text x=&quot;1322.39&quot; y=&quot;2363.59&quot; style=&quot;font-family:&#x27;Helvetica&#x27;;font-size:99.99px;fill:#000000&quot; text-anchor=&quot;middle&quot;&gt;75&lt;/text&gt;\n",
       "\t&lt;line x1=&quot;2146.82&quot; y1=&quot;2233.63&quot; x2=&quot;2146.82&quot; y2=&quot;2273.73&quot; style=&quot;stroke:#000000;stroke-width:5.76&quot;/&gt;\n",
       "\t&lt;text x=&quot;2146.82&quot; y=&quot;2363.59&quot; style=&quot;font-family:&#x27;Helvetica&#x27;;font-size:99.99px;fill:#000000&quot; text-anchor=&quot;middle&quot;&gt;80&lt;/text&gt;\n",
       "\t&lt;line x1=&quot;2971.24&quot; y1=&quot;2233.63&quot; x2=&quot;2971.24&quot; y2=&quot;2273.73&quot; style=&quot;stroke:#000000;stroke-width:5.76&quot;/&gt;\n",
       "\t&lt;text x=&quot;2971.24&quot; y=&quot;2363.59&quot; style=&quot;font-family:&#x27;Helvetica&#x27;;font-size:99.99px;fill:#000000&quot; text-anchor=&quot;middle&quot;&gt;85&lt;/text&gt;\n",
       "\t&lt;line x1=&quot;3795.66&quot; y1=&quot;2233.63&quot; x2=&quot;3795.66&quot; y2=&quot;2273.73&quot; style=&quot;stroke:#000000;stroke-width:5.76&quot;/&gt;\n",
       "\t&lt;text x=&quot;3795.66&quot; y=&quot;2363.59&quot; style=&quot;font-family:&#x27;Helvetica&#x27;;font-size:99.99px;fill:#000000&quot; text-anchor=&quot;middle&quot;&gt;90&lt;/text&gt;\n",
       "\t&lt;text x=&quot;2146.82&quot; y=&quot;2473.60&quot; style=&quot;font-family:&#x27;Helvetica&#x27;;font-size:99.99px;fill:#000000&quot; text-anchor=&quot;middle&quot;&gt;Year of Interview&lt;/text&gt;\n",
       "\t&lt;rect x=&quot;1225.00&quot; y=&quot;2558.24&quot; width=&quot;1843.75&quot; height=&quot;186.37&quot; style=&quot;fill:#FFFFFF&quot;/&gt;\n",
       "\t&lt;rect x=&quot;1227.88&quot; y=&quot;2561.12&quot; width=&quot;1837.99&quot; height=&quot;180.61&quot; style=&quot;fill:none;stroke:#000000;stroke-width:5.76&quot;/&gt;\n",
       "\t&lt;line x1=&quot;1268.19&quot; y1=&quot;2651.43&quot; x2=&quot;1642.53&quot; y2=&quot;2651.43&quot; style=&quot;stroke:#1A476F;stroke-width:8.64&quot;/&gt;\n",
       "\t&lt;circle cx=&quot;1455.30&quot; cy=&quot;2651.43&quot; r=&quot;26.35&quot; style=&quot;fill:#1A476F&quot;/&gt;\n",
       "\t&lt;circle cx=&quot;1455.30&quot; cy=&quot;2651.43&quot; r=&quot;22.03&quot; style=&quot;fill:none;stroke:#1A476F;stroke-width:8.64&quot;/&gt;\n",
       "\t&lt;line x1=&quot;2326.62&quot; y1=&quot;2651.43&quot; x2=&quot;2700.97&quot; y2=&quot;2651.43&quot; style=&quot;stroke:#90353B;stroke-width:8.64&quot;/&gt;\n",
       "\t&lt;circle cx=&quot;2513.73&quot; cy=&quot;2651.43&quot; r=&quot;26.35&quot; style=&quot;fill:#90353B&quot;/&gt;\n",
       "\t&lt;circle cx=&quot;2513.73&quot; cy=&quot;2651.43&quot; r=&quot;22.03&quot; style=&quot;fill:none;stroke:#90353B;stroke-width:8.64&quot;/&gt;\n",
       "\t&lt;text x=&quot;1702.55&quot; y=&quot;2686.46&quot; style=&quot;font-family:&#x27;Helvetica&#x27;;font-size:99.99px;fill:#000000&quot;&gt;Non-Union&lt;/text&gt;\n",
       "\t&lt;text x=&quot;2760.99&quot; y=&quot;2686.46&quot; style=&quot;font-family:&#x27;Helvetica&#x27;;font-size:99.99px;fill:#000000&quot;&gt;Union&lt;/text&gt;\n",
       "&lt;/svg&gt;\n",
       "</body></html>\"></iframe>\n"
      ],
      "text/plain": [
       "This front-end cannot display the desired image type."
      ]
     },
     "metadata": {
      "image/svg+xml": {
       "height": 436,
       "width": 600
      },
      "text/html": {
       "height": 436,
       "width": 600
      }
     },
     "output_type": "display_data"
    }
   ],
   "source": [
    "// plot log hours against year separately for union and non-union\n",
    "\n",
    "lgraph hours year union, legend(on order(1 \"Non-Union\" 2 \"Union\")) xtitle(\"Year of Interview\")\n",
    "graph di"
   ]
  },
  {
   "cell_type": "markdown",
   "metadata": {},
   "source": [
    "# Regression: Effect of union status on hours worked"
   ]
  },
  {
   "cell_type": "code",
   "execution_count": 7,
   "metadata": {},
   "outputs": [
    {
     "name": "stdout",
     "output_type": "stream",
     "text": [
      "\n",
      "      Source |       SS           df       MS      Number of obs   =    19,202\n",
      "-------------+----------------------------------   F(1, 19200)     =    147.51\n",
      "       Model |  24.1358023         1  24.1358023   Prob > F        =    0.0000\n",
      "    Residual |  3141.51825    19,200  .163620742   R-squared       =    0.0076\n",
      "-------------+----------------------------------   Adj R-squared   =    0.0076\n",
      "       Total |  3165.65405    19,201  .164869228   Root MSE        =     .4045\n",
      "\n",
      "------------------------------------------------------------------------------\n",
      "   hours_log |      Coef.   Std. Err.      t    P>|t|     [95% Conf. Interval]\n",
      "-------------+----------------------------------------------------------------\n",
      "       union |   .0836776   .0068897    12.15   0.000     .0701733    .0971819\n",
      "       _cons |   3.527044   .0033364  1057.15   0.000     3.520504    3.533583\n",
      "------------------------------------------------------------------------------\n"
     ]
    }
   ],
   "source": [
    "// Regress hours worked against union status\n",
    "reg hours_log union"
   ]
  },
  {
   "cell_type": "markdown",
   "metadata": {},
   "source": [
    "#### Log Hours\n",
    "\n",
    "Running the regression with the log of the dependent variable allows us to interpret the coefficient in terms of percentage change: <br>\n",
    "                <center>$log(y)= \\beta_0 + \\beta_1 x + \\varepsilon$ </center><br>\n",
    "A 1-unit increase in $x$ corresponds to an increase in $log(y)$ by $\\hat{\\beta}_1$: <br>\n",
    "                <center>$log(y') - log(y) =\\hat{\\beta}_1 (x + 1) - \\hat{\\beta}_1x = \\hat{\\beta}_1$ <br>\n",
    "                $e^{\\hat{\\beta}_1} = \\frac{y'}{y} = \\frac{y+y'-y}{y} = 1 + \\frac{y'-y}{y}$</center>\n",
    "Therefore, the percentage change in is: <br>\n",
    "<center>$\\frac{y'-y}{y} = e^{\\hat{\\beta}_1}-1$ </center><br>\n",
    "For sufficiently small values of $\\hat{\\beta}_1$: <br> <center>$e^{\\hat{\\beta}_1}-1\\approx\\hat{\\beta}_1$ </center> <br>\n",
    "\n",
    "In our example, on average being a union worker is associated with an increase in hours worked by $100\\hat{\\beta}_1 \\approx 8.37\\%$ ($100(e^{\\hat{\\beta}_1}-1)=8.73$)"
   ]
  },
  {
   "cell_type": "markdown",
   "metadata": {},
   "source": [
    "#### What is the identification assumption for the coefficient on union to be causal?\n",
    "\n",
    "Assume that there are no variables that affects both hours worked and union status, and that there is no reverse causality (no effect of hours worked on union status). <br><br> The former assumption is unrealistic as there may be many factors, both observable and unobservable, that are correlated with being in a union and with the number of hours worked. For instance, living in a specific city may be correlated both with higher probability of being in a union and with a higher number of hours worked. Thus, the purpose of the following analysis is to <i>clean</i> the effect of union as much as possible"
   ]
  },
  {
   "cell_type": "code",
   "execution_count": 8,
   "metadata": {},
   "outputs": [
    {
     "name": "stdout",
     "output_type": "stream",
     "text": [
      "(dropped 667 singleton observations)\n",
      "(MWFE estimator converged in 7 iterations)\n",
      "\n",
      "HDFE Linear regression                            Number of obs   =     18,535\n",
      "Absorbing 2 HDFE groups                           F(   1,  15040) =      73.55\n",
      "                                                  Prob > F        =     0.0000\n",
      "                                                  R-squared       =     0.5096\n",
      "                                                  Adj R-squared   =     0.3957\n",
      "                                                  Within R-sq.    =     0.0049\n",
      "                                                  Root MSE        =     0.3112\n",
      "\n",
      "------------------------------------------------------------------------------\n",
      "   hours_log |      Coef.   Std. Err.      t    P>|t|     [95% Conf. Interval]\n",
      "-------------+----------------------------------------------------------------\n",
      "       union |   .0724377   .0084466     8.58   0.000     .0558813    .0889942\n",
      "       _cons |   3.532703     .00304  1162.06   0.000     3.526744    3.538662\n",
      "------------------------------------------------------------------------------\n",
      "\n",
      "Absorbed degrees of freedom:\n",
      "-----------------------------------------------------+\n",
      " Absorbed FE | Categories  - Redundant  = Num. Coefs |\n",
      "-------------+---------------------------------------|\n",
      "        year |        12           0          12     |\n",
      "      idcode |      3483           1        3482     |\n",
      "-----------------------------------------------------+\n"
     ]
    }
   ],
   "source": [
    "// Regress hours worked against union status with individual (idcode) and year fixed effects\n",
    "reghdfe hours_log union, absorb(year idcode)"
   ]
  },
  {
   "cell_type": "markdown",
   "metadata": {},
   "source": [
    "#### What is the identification assumption for the coefficient on union to be causal?\n",
    "\n",
    "Differently from before, here we control for factors that are fixed either over time within the same individual (e.g. year of birth) or across individuals within the same year (e.g. the presence of a crisis). Therefore, we <i>only</i> have to assume that there are no variables, varying both over time and across individuals, that are correlated with both hours worked and union status. "
   ]
  },
  {
   "cell_type": "code",
   "execution_count": 9,
   "metadata": {},
   "outputs": [
    {
     "name": "stdout",
     "output_type": "stream",
     "text": [
      "(dropped 667 singleton observations)\n",
      "(MWFE estimator converged in 7 iterations)\n",
      "\n",
      "HDFE Linear regression                            Number of obs   =     18,535\n",
      "Absorbing 2 HDFE groups                           F(   1,   3482) =      48.28\n",
      "Statistics robust to heteroskedasticity           Prob > F        =     0.0000\n",
      "                                                  R-squared       =     0.5096\n",
      "                                                  Adj R-squared   =     0.3957\n",
      "                                                  Within R-sq.    =     0.0049\n",
      "Number of clusters (idcode)  =      3,483         Root MSE        =     0.3112\n",
      "\n",
      "                             (Std. Err. adjusted for 3,483 clusters in idcode)\n",
      "------------------------------------------------------------------------------\n",
      "             |               Robust\n",
      "   hours_log |      Coef.   Std. Err.      t    P>|t|     [95% Conf. Interval]\n",
      "-------------+----------------------------------------------------------------\n",
      "       union |   .0724377   .0104252     6.95   0.000     .0519976    .0928779\n",
      "       _cons |   3.532703   .0024737  1428.10   0.000     3.527853    3.537553\n",
      "------------------------------------------------------------------------------\n",
      "\n",
      "Absorbed degrees of freedom:\n",
      "-----------------------------------------------------+\n",
      " Absorbed FE | Categories  - Redundant  = Num. Coefs |\n",
      "-------------+---------------------------------------|\n",
      "        year |        12           1          11     |\n",
      "      idcode |      3483        3483           0    *|\n",
      "-----------------------------------------------------+\n",
      "* = FE nested within cluster; treated as redundant for DoF computation\n"
     ]
    }
   ],
   "source": [
    "// Now cluster standard errors. \n",
    "reghdfe hours_log union, absorb(year idcode) cluster(idcode)"
   ]
  },
  {
   "cell_type": "markdown",
   "metadata": {},
   "source": [
    "#### What level should you cluster at and why? What do you notice about the coefficients?\n",
    "\n",
    "Standard errors are clustered at the individual level because this is the level at which the \"treatment\" is assigned. The coefficient does not change, but the standard errors do"
   ]
  },
  {
   "cell_type": "code",
   "execution_count": 10,
   "metadata": {},
   "outputs": [
    {
     "name": "stdout",
     "output_type": "stream",
     "text": [
      "(dropped 666 singleton observations)\n",
      "(MWFE estimator converged in 16 iterations)\n",
      "\n",
      "HDFE Linear regression                            Number of obs   =     18,463\n",
      "Absorbing 3 HDFE groups                           F(   1,   3475) =      33.73\n",
      "Statistics robust to heteroskedasticity           Prob > F        =     0.0000\n",
      "                                                  R-squared       =     0.5258\n",
      "                                                  Adj R-squared   =     0.4149\n",
      "                                                  Within R-sq.    =     0.0034\n",
      "Number of clusters (idcode)  =      3,476         Root MSE        =     0.3062\n",
      "\n",
      "                             (Std. Err. adjusted for 3,476 clusters in idcode)\n",
      "------------------------------------------------------------------------------\n",
      "             |               Robust\n",
      "   hours_log |      Coef.   Std. Err.      t    P>|t|     [95% Conf. Interval]\n",
      "-------------+----------------------------------------------------------------\n",
      "       union |   .0599294   .0103186     5.81   0.000     .0396983    .0801604\n",
      "       _cons |   3.535825   .0024496  1443.45   0.000     3.531022    3.540628\n",
      "------------------------------------------------------------------------------\n",
      "\n",
      "Absorbed degrees of freedom:\n",
      "-----------------------------------------------------+\n",
      " Absorbed FE | Categories  - Redundant  = Num. Coefs |\n",
      "-------------+---------------------------------------|\n",
      "        year |        12           1          11     |\n",
      "      idcode |      3476        3476           0    *|\n",
      "    occ_code |        13           1          12     |\n",
      "-----------------------------------------------------+\n",
      "* = FE nested within cluster; treated as redundant for DoF computation\n"
     ]
    }
   ],
   "source": [
    "// Now add fixed effects for occupation code\n",
    "\n",
    "reghdfe hours_log union, absorb(year idcode occ_code) cluster(idcode)\n"
   ]
  },
  {
   "cell_type": "markdown",
   "metadata": {},
   "source": [
    "#### In terms of causal inference, why is adding occupation code  as a control probably not a good idea?\n",
    "\n",
    "Occupation is likely to be a collider: the occupation choice may be influenced by both the number of hours worked in that job and the probability of joining a union for workers in that occupation. "
   ]
  },
  {
   "cell_type": "code",
   "execution_count": 11,
   "metadata": {},
   "outputs": [
    {
     "name": "stdout",
     "output_type": "stream",
     "text": [
      "(dropped 670 singleton observations)\n",
      "(MWFE estimator converged in 21 iterations)\n",
      "\n",
      "HDFE Linear regression                            Number of obs   =     18,510\n",
      "Absorbing 2 HDFE groups                           F(   1,   3479) =      48.36\n",
      "Statistics robust to heteroskedasticity           Prob > F        =     0.0000\n",
      "                                                  R-squared       =     0.5166\n",
      "                                                  Adj R-squared   =     0.4009\n",
      "                                                  Within R-sq.    =     0.0050\n",
      "Number of clusters (idcode)  =      3,480         Root MSE        =     0.3100\n",
      "\n",
      "                             (Std. Err. adjusted for 3,480 clusters in idcode)\n",
      "------------------------------------------------------------------------------\n",
      "             |               Robust\n",
      "   hours_log |      Coef.   Std. Err.      t    P>|t|     [95% Conf. Interval]\n",
      "-------------+----------------------------------------------------------------\n",
      "       union |   .0732274   .0105305     6.95   0.000     .0525808    .0938739\n",
      "       _cons |   3.532341   .0024969  1414.67   0.000     3.527446    3.537237\n",
      "------------------------------------------------------------------------------\n",
      "\n",
      "Absorbed degrees of freedom:\n",
      "---------------------------------------------------------+\n",
      "     Absorbed FE | Categories  - Redundant  = Num. Coefs |\n",
      "-----------------+---------------------------------------|\n",
      "          idcode |      3480        3480           0    *|\n",
      "     year#c.race |        12           0          12    ?|\n",
      "      year#c.age |        12           0          12    ?|\n",
      " year#c.collgrad |        12           0          12    ?|\n",
      "      year#c.msp |        12           0          12    ?|\n",
      "  year#c.nev_mar |        12           0          12    ?|\n",
      " year#c.not_smsa |        12           0          12    ?|\n",
      "   year#c.c_city |        12           0          12    ?|\n",
      "    year#c.south |        12           0          12    ?|\n",
      "---------------------------------------------------------+\n",
      "? = number of redundant parameters may be higher\n",
      "* = FE nested within cluster; treated as redundant for DoF computation\n"
     ]
    }
   ],
   "source": [
    "reghdfe hours_log union, absorb(idcode year#c.(race age collgrad msp nev_ma not_smsa c_city south)) cluster(idcode)"
   ]
  },
  {
   "cell_type": "markdown",
   "metadata": {},
   "source": [
    "#### What are \"good controls\" in the dataset in terms of being exogenous to union status? How do these change your estimates?\n",
    "\n",
    "All demographic variables (age, race, place of living, etc.) can be considered as good controls as the decision about joining a union cannot affect these variables. The estimate doesn't change by much and, most importantly, the sign is consistent across all specifications hinting towards a positive effect of union status on hours worked. "
   ]
  },
  {
   "cell_type": "code",
   "execution_count": null,
   "metadata": {},
   "outputs": [],
   "source": []
  }
 ],
 "metadata": {
  "kernelspec": {
   "display_name": "Stata",
   "language": "stata",
   "name": "stata"
  },
  "language_info": {
   "codemirror_mode": "stata",
   "file_extension": ".do",
   "mimetype": "text/x-stata",
   "name": "stata",
   "version": "15.1"
  }
 },
 "nbformat": 4,
 "nbformat_minor": 4
}
