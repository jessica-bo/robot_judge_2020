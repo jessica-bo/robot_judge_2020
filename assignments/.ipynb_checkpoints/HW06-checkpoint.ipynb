{
 "cells": [
  {
   "cell_type": "markdown",
   "metadata": {},
   "source": [
    "# HW06: Python \n",
    "(due November 3rd)"
   ]
  },
  {
   "cell_type": "markdown",
   "metadata": {},
   "source": [
    "# Heterogeneous Treatment Effects with Keras MLP"
   ]
  },
  {
   "cell_type": "code",
   "execution_count": 2,
   "metadata": {},
   "outputs": [],
   "source": [
    "import pandas as pd\n",
    "import warnings\n",
    "warnings.filterwarnings('ignore')\n",
    "\n",
    "from tensorflow import keras"
   ]
  },
  {
   "cell_type": "code",
   "execution_count": 3,
   "metadata": {},
   "outputs": [
    {
     "data": {
      "text/plain": [
       "{'trialid': 'Trial ID',\n",
       " 'centreid': 'Trial centre',\n",
       " 'status': 'Patient status at baseline',\n",
       " 'age': 'Age in years at baseline',\n",
       " 'sex': 'Sex',\n",
       " 'afcarib': 'Ethnic group',\n",
       " 'ocfabth': \"Father's social class at birth\",\n",
       " 'chron1l': 'Months since onset of psychosis, logged',\n",
       " 'hos94': 'Days in hospital for psychiatric reasons: 2 years before baseline',\n",
       " 'cprs94': 'Psychopathology at baseline (CPRS)',\n",
       " 'das94': 'Disability at baseline (DAS)',\n",
       " 'sat94': '(Dis)satisfaction with services at baseline',\n",
       " 'rand': 'Randomised group',\n",
       " 'hos96': 'Days in hospital for psychiatric reasons: 2 years after baseline',\n",
       " 'cprs96': 'Psychopathology at 2 years (CPRS)',\n",
       " 'sat96': '(Dis)satisfaction with services at 2 years'}"
      ]
     },
     "execution_count": 3,
     "metadata": {},
     "output_type": "execute_result"
    }
   ],
   "source": [
    "# Dataset on RCT study of case management on mental health outcomes\n",
    "\n",
    "# show variable labels\n",
    "pd.read_stata('http://www.homepages.ucl.ac.uk/~rmjwiww/stata/missing/uk500.dta', iterator=True).variable_labels()"
   ]
  },
  {
   "cell_type": "code",
   "execution_count": 15,
   "metadata": {},
   "outputs": [
    {
     "name": "stdout",
     "output_type": "stream",
     "text": [
      "<class 'pandas.core.frame.DataFrame'>\n",
      "Int64Index: 500 entries, 0 to 499\n",
      "Data columns (total 16 columns):\n",
      " #   Column    Non-Null Count  Dtype   \n",
      "---  ------    --------------  -----   \n",
      " 0   trialid   500 non-null    float64 \n",
      " 1   centreid  500 non-null    category\n",
      " 2   status    500 non-null    category\n",
      " 3   age       500 non-null    float64 \n",
      " 4   sex       500 non-null    category\n",
      " 5   afcarib   500 non-null    category\n",
      " 6   ocfabth   413 non-null    category\n",
      " 7   chron1l   500 non-null    float32 \n",
      " 8   hos94     500 non-null    float64 \n",
      " 9   cprs94    500 non-null    float64 \n",
      " 10  das94     489 non-null    float64 \n",
      " 11  sat94     399 non-null    float64 \n",
      " 12  rand      500 non-null    category\n",
      " 13  hos96     477 non-null    float64 \n",
      " 14  cprs96    421 non-null    float64 \n",
      " 15  sat96     349 non-null    float64 \n",
      "dtypes: category(6), float32(1), float64(9)\n",
      "memory usage: 44.7 KB\n",
      "0         NaN\n",
      "1      22.000\n",
      "2       9.000\n",
      "3      21.375\n",
      "4         NaN\n",
      "        ...  \n",
      "495       NaN\n",
      "496       NaN\n",
      "497    30.375\n",
      "498       NaN\n",
      "499    20.000\n",
      "Name: sat96, Length: 500, dtype: float64\n"
     ]
    }
   ],
   "source": [
    "# Load data \n",
    "df = pd.read_stata('http://www.homepages.ucl.ac.uk/~rmjwiww/stata/missing/uk500.dta')\n",
    "df.info()"
   ]
  },
  {
   "cell_type": "code",
   "execution_count": 5,
   "metadata": {},
   "outputs": [
    {
     "data": {
      "text/html": [
       "<div>\n",
       "<style scoped>\n",
       "    .dataframe tbody tr th:only-of-type {\n",
       "        vertical-align: middle;\n",
       "    }\n",
       "\n",
       "    .dataframe tbody tr th {\n",
       "        vertical-align: top;\n",
       "    }\n",
       "\n",
       "    .dataframe thead th {\n",
       "        text-align: right;\n",
       "    }\n",
       "</style>\n",
       "<table border=\"1\" class=\"dataframe\">\n",
       "  <thead>\n",
       "    <tr style=\"text-align: right;\">\n",
       "      <th></th>\n",
       "      <th>sat96</th>\n",
       "      <th>hos96</th>\n",
       "      <th>cprs96</th>\n",
       "    </tr>\n",
       "  </thead>\n",
       "  <tbody>\n",
       "    <tr>\n",
       "      <th>count</th>\n",
       "      <td>349.000000</td>\n",
       "      <td>477.000000</td>\n",
       "      <td>421.000000</td>\n",
       "    </tr>\n",
       "    <tr>\n",
       "      <th>mean</th>\n",
       "      <td>17.102794</td>\n",
       "      <td>72.463312</td>\n",
       "      <td>18.624924</td>\n",
       "    </tr>\n",
       "    <tr>\n",
       "      <th>std</th>\n",
       "      <td>4.730995</td>\n",
       "      <td>113.007423</td>\n",
       "      <td>13.583216</td>\n",
       "    </tr>\n",
       "    <tr>\n",
       "      <th>min</th>\n",
       "      <td>9.000000</td>\n",
       "      <td>0.000000</td>\n",
       "      <td>0.000000</td>\n",
       "    </tr>\n",
       "    <tr>\n",
       "      <th>25%</th>\n",
       "      <td>13.500000</td>\n",
       "      <td>0.000000</td>\n",
       "      <td>8.000000</td>\n",
       "    </tr>\n",
       "    <tr>\n",
       "      <th>50%</th>\n",
       "      <td>17.000000</td>\n",
       "      <td>22.000000</td>\n",
       "      <td>16.000000</td>\n",
       "    </tr>\n",
       "    <tr>\n",
       "      <th>75%</th>\n",
       "      <td>20.000000</td>\n",
       "      <td>98.000000</td>\n",
       "      <td>27.000000</td>\n",
       "    </tr>\n",
       "    <tr>\n",
       "      <th>max</th>\n",
       "      <td>32.000000</td>\n",
       "      <td>725.000000</td>\n",
       "      <td>71.000000</td>\n",
       "    </tr>\n",
       "  </tbody>\n",
       "</table>\n",
       "</div>"
      ],
      "text/plain": [
       "            sat96       hos96      cprs96\n",
       "count  349.000000  477.000000  421.000000\n",
       "mean    17.102794   72.463312   18.624924\n",
       "std      4.730995  113.007423   13.583216\n",
       "min      9.000000    0.000000    0.000000\n",
       "25%     13.500000    0.000000    8.000000\n",
       "50%     17.000000   22.000000   16.000000\n",
       "75%     20.000000   98.000000   27.000000\n",
       "max     32.000000  725.000000   71.000000"
      ]
     },
     "execution_count": 5,
     "metadata": {},
     "output_type": "execute_result"
    }
   ],
   "source": [
    "# the post-treatment outcomes to analyze\n",
    "outcomes = ['sat96', 'hos96', 'cprs96']\n",
    "df[outcomes].describe()"
   ]
  },
  {
   "cell_type": "code",
   "execution_count": 6,
   "metadata": {},
   "outputs": [
    {
     "data": {
      "text/plain": [
       "Intensive case management    251\n",
       "Standard case management     249\n",
       "Name: rand, dtype: int64"
      ]
     },
     "execution_count": 6,
     "metadata": {},
     "output_type": "execute_result"
    }
   ],
   "source": [
    "# variable describing treatment status\n",
    "treatvar = 'rand'\n",
    "df[treatvar].value_counts()"
   ]
  },
  {
   "cell_type": "code",
   "execution_count": 132,
   "metadata": {},
   "outputs": [
    {
     "data": {
      "text/html": [
       "<div>\n",
       "<style scoped>\n",
       "    .dataframe tbody tr th:only-of-type {\n",
       "        vertical-align: middle;\n",
       "    }\n",
       "\n",
       "    .dataframe tbody tr th {\n",
       "        vertical-align: top;\n",
       "    }\n",
       "\n",
       "    .dataframe thead th {\n",
       "        text-align: right;\n",
       "    }\n",
       "</style>\n",
       "<table border=\"1\" class=\"dataframe\">\n",
       "  <thead>\n",
       "    <tr style=\"text-align: right;\">\n",
       "      <th></th>\n",
       "      <th>sat94</th>\n",
       "      <th>hos94</th>\n",
       "      <th>das94</th>\n",
       "      <th>cprs94</th>\n",
       "      <th>age</th>\n",
       "    </tr>\n",
       "  </thead>\n",
       "  <tbody>\n",
       "    <tr>\n",
       "      <th>count</th>\n",
       "      <td>399.000000</td>\n",
       "      <td>500.000000</td>\n",
       "      <td>489.000000</td>\n",
       "      <td>500.000000</td>\n",
       "      <td>500.000000</td>\n",
       "    </tr>\n",
       "    <tr>\n",
       "      <th>mean</th>\n",
       "      <td>19.103697</td>\n",
       "      <td>105.774000</td>\n",
       "      <td>1.170811</td>\n",
       "      <td>19.354775</td>\n",
       "      <td>38.096000</td>\n",
       "    </tr>\n",
       "    <tr>\n",
       "      <th>std</th>\n",
       "      <td>4.717492</td>\n",
       "      <td>109.528114</td>\n",
       "      <td>0.854318</td>\n",
       "      <td>12.860531</td>\n",
       "      <td>11.630017</td>\n",
       "    </tr>\n",
       "    <tr>\n",
       "      <th>min</th>\n",
       "      <td>9.000000</td>\n",
       "      <td>1.000000</td>\n",
       "      <td>0.000000</td>\n",
       "      <td>0.000000</td>\n",
       "      <td>19.000000</td>\n",
       "    </tr>\n",
       "    <tr>\n",
       "      <th>25%</th>\n",
       "      <td>16.000000</td>\n",
       "      <td>30.000000</td>\n",
       "      <td>0.500000</td>\n",
       "      <td>10.000000</td>\n",
       "      <td>29.000000</td>\n",
       "    </tr>\n",
       "    <tr>\n",
       "      <th>50%</th>\n",
       "      <td>19.000000</td>\n",
       "      <td>68.500000</td>\n",
       "      <td>1.000000</td>\n",
       "      <td>17.000000</td>\n",
       "      <td>36.000000</td>\n",
       "    </tr>\n",
       "    <tr>\n",
       "      <th>75%</th>\n",
       "      <td>22.000000</td>\n",
       "      <td>150.000000</td>\n",
       "      <td>1.666666</td>\n",
       "      <td>26.000000</td>\n",
       "      <td>46.000000</td>\n",
       "    </tr>\n",
       "    <tr>\n",
       "      <th>max</th>\n",
       "      <td>36.000000</td>\n",
       "      <td>730.000000</td>\n",
       "      <td>4.750000</td>\n",
       "      <td>79.000000</td>\n",
       "      <td>65.000000</td>\n",
       "    </tr>\n",
       "  </tbody>\n",
       "</table>\n",
       "</div>"
      ],
      "text/plain": [
       "            sat94       hos94       das94      cprs94         age\n",
       "count  399.000000  500.000000  489.000000  500.000000  500.000000\n",
       "mean    19.103697  105.774000    1.170811   19.354775   38.096000\n",
       "std      4.717492  109.528114    0.854318   12.860531   11.630017\n",
       "min      9.000000    1.000000    0.000000    0.000000   19.000000\n",
       "25%     16.000000   30.000000    0.500000   10.000000   29.000000\n",
       "50%     19.000000   68.500000    1.000000   17.000000   36.000000\n",
       "75%     22.000000  150.000000    1.666666   26.000000   46.000000\n",
       "max     36.000000  730.000000    4.750000   79.000000   65.000000"
      ]
     },
     "execution_count": 132,
     "metadata": {},
     "output_type": "execute_result"
    }
   ],
   "source": [
    "# covariates for predicting the outcome conditional on treatment\n",
    "covariates = ['status', 'sex', 'sat94', 'ocfabth', 'hos94', 'das94', 'cprs94', 'age', 'afcarib']\n",
    "df[covariates].describe()"
   ]
  },
  {
   "cell_type": "code",
   "execution_count": 133,
   "metadata": {},
   "outputs": [],
   "source": [
    "# Subset the dataset by treatment (intensive) and control (standard)\n",
    "df_treat = df[df[treatvar] == \"Intensive case management\"].dropna()\n",
    "df_control = df[df[treatvar] == \"Standard case management\"].dropna()"
   ]
  },
  {
   "cell_type": "code",
   "execution_count": 134,
   "metadata": {},
   "outputs": [],
   "source": [
    "# build an MLP model with at least 2 hidden layers, ReLU activation, batch normalization, dropout\n",
    "from tensorflow.keras.callbacks import EarlyStopping\n",
    "from tensorflow.keras.layers import Dropout, Dense, BatchNormalization\n",
    "\n",
    "num_features = len(covariates)\n",
    "num_classes = 1\n",
    "\n",
    "# TREATMENT\n",
    "model_treat = keras.models.Sequential()\n",
    "# Input layer \n",
    "model_treat.add(Dense(8, input_dim=num_features, activation='relu'))\n",
    "model_treat.add(BatchNormalization())\n",
    "model_treat.add(Dropout(0.5))\n",
    "# Hidden layer 1\n",
    "model_treat.add(Dense(6, activation='relu'))\n",
    "model_treat.add(BatchNormalization())\n",
    "model_treat.add(Dropout(0.5))\n",
    "# Hidden layer 2\n",
    "model_treat.add(Dense(4, activation='relu'))\n",
    "model_treat.add(BatchNormalization())\n",
    "model_treat.add(Dropout(0.5))\n",
    "# Output layer \n",
    "model_treat.add(Dense(num_classes, activation='linear'))\n",
    "\n",
    "# CONTROL\n",
    "model_control = keras.models.Sequential()\n",
    "# Input layer \n",
    "model_control.add(Dense(8, input_dim=num_features, activation='relu'))\n",
    "model_control.add(BatchNormalization())\n",
    "model_control.add(Dropout(0.5))\n",
    "# Hidden layer 1\n",
    "model_control.add(Dense(6, activation='relu'))\n",
    "model_control.add(BatchNormalization())\n",
    "model_control.add(Dropout(0.5))\n",
    "# Hidden layer 2\n",
    "model_control.add(Dense(4, activation='relu'))\n",
    "model_control.add(BatchNormalization())\n",
    "model_control.add(Dropout(0.5))\n",
    "# Output layer \n",
    "model_control.add(Dense(num_classes, activation='linear'))\n"
   ]
  },
  {
   "cell_type": "code",
   "execution_count": 135,
   "metadata": {},
   "outputs": [],
   "source": [
    "# compile the model\n",
    "model_treat.compile(loss='mean_absolute_error', optimizer='adam', metrics=['mean_squared_error'])\n",
    "model_control.compile(loss='mean_absolute_error', optimizer='adam', metrics=['mean_squared_error'])"
   ]
  },
  {
   "cell_type": "code",
   "execution_count": 136,
   "metadata": {},
   "outputs": [],
   "source": [
    "from sklearn.preprocessing import OrdinalEncoder\n",
    "import numpy as np\n",
    "\n",
    "oe = OrdinalEncoder()\n",
    "\n",
    "X_treat_enc = oe.fit_transform(np.array(df_treat[covariates]))\n",
    "Y_treat = np.array(df_treat['hos96'])\n",
    "\n",
    "X_control_enc = oe.fit_transform(np.array(df_control[covariates]))\n",
    "Y_control = np.array(df_control['hos96'])"
   ]
  },
  {
   "cell_type": "code",
   "execution_count": 137,
   "metadata": {},
   "outputs": [
    {
     "name": "stdout",
     "output_type": "stream",
     "text": [
      "Train on 104 samples, validate on 26 samples\n",
      "Epoch 1/10\n",
      "104/104 [==============================] - 2s 18ms/sample - loss: 67.8177 - mean_squared_error: 16800.6504 - val_loss: 50.0424 - val_mean_squared_error: 8286.9590\n",
      "Epoch 2/10\n",
      "104/104 [==============================] - 0s 688us/sample - loss: 67.5723 - mean_squared_error: 16774.2754 - val_loss: 50.0282 - val_mean_squared_error: 8291.8086\n",
      "Epoch 3/10\n",
      "104/104 [==============================] - 0s 713us/sample - loss: 67.6260 - mean_squared_error: 16769.1094 - val_loss: 50.0276 - val_mean_squared_error: 8295.8506\n",
      "Epoch 4/10\n",
      "104/104 [==============================] - 0s 647us/sample - loss: 67.7038 - mean_squared_error: 16748.0801 - val_loss: 50.0524 - val_mean_squared_error: 8302.0615\n",
      "Epoch 5/10\n",
      "104/104 [==============================] - 0s 718us/sample - loss: 67.4870 - mean_squared_error: 16752.1387 - val_loss: 50.0684 - val_mean_squared_error: 8305.2490\n",
      "Epoch 6/10\n",
      "104/104 [==============================] - 0s 953us/sample - loss: 67.5872 - mean_squared_error: 16755.5879 - val_loss: 50.0817 - val_mean_squared_error: 8304.9473\n",
      "Epoch 7/10\n",
      "104/104 [==============================] - 0s 835us/sample - loss: 67.7142 - mean_squared_error: 16752.4062 - val_loss: 50.0826 - val_mean_squared_error: 8302.2051\n",
      "Epoch 8/10\n",
      "104/104 [==============================] - 0s 969us/sample - loss: 67.5195 - mean_squared_error: 16744.3262 - val_loss: 50.0825 - val_mean_squared_error: 8303.3115\n",
      "Train on 92 samples, validate on 24 samples\n",
      "Epoch 1/10\n",
      "92/92 [==============================] - 2s 20ms/sample - loss: 62.8285 - mean_squared_error: 10792.2285 - val_loss: 86.2830 - val_mean_squared_error: 31206.0371\n",
      "Epoch 2/10\n",
      "92/92 [==============================] - 0s 631us/sample - loss: 63.0498 - mean_squared_error: 10848.7148 - val_loss: 86.4169 - val_mean_squared_error: 31250.9121\n",
      "Epoch 3/10\n",
      "92/92 [==============================] - 0s 702us/sample - loss: 62.7130 - mean_squared_error: 10787.8857 - val_loss: 86.4802 - val_mean_squared_error: 31271.5527\n",
      "Epoch 4/10\n",
      "92/92 [==============================] - 0s 869us/sample - loss: 62.8361 - mean_squared_error: 10873.0537 - val_loss: 86.5184 - val_mean_squared_error: 31287.8340\n",
      "Epoch 5/10\n",
      "92/92 [==============================] - 0s 912us/sample - loss: 62.9692 - mean_squared_error: 10809.3271 - val_loss: 86.5382 - val_mean_squared_error: 31299.4922\n",
      "Epoch 6/10\n",
      "92/92 [==============================] - 0s 2ms/sample - loss: 62.7364 - mean_squared_error: 10815.0518 - val_loss: 86.5500 - val_mean_squared_error: 31306.2812\n"
     ]
    },
    {
     "data": {
      "text/plain": [
       "<tensorflow.python.keras.callbacks.History at 0x206b9578c88>"
      ]
     },
     "execution_count": 137,
     "metadata": {},
     "output_type": "execute_result"
    }
   ],
   "source": [
    "# choose one of the three outcomes to analyze.\n",
    "# fit separate models on the treatment dataset and control dataset\n",
    "# use early stopping\n",
    "\n",
    "earlystop = EarlyStopping(monitor='loss', patience=3)\n",
    "model_treat.fit(X_treat_enc, Y_treat, epochs=10, batch_size=10, verbose=1, validation_split=0.2, callbacks=[earlystop])\n",
    "model_control.fit(X_control_enc, Y_control, epochs=10, batch_size=10, verbose=1, validation_split=0.2, callbacks=[earlystop])"
   ]
  },
  {
   "cell_type": "code",
   "execution_count": 138,
   "metadata": {},
   "outputs": [],
   "source": [
    "# form predicted outcomes for each individual, for both control and treatment\n",
    "df_dropna = df.dropna()\n",
    "X_enc = oe.fit_transform(np.array(df_dropna[covariates]))\n",
    "Y_true = np.array(df_dropna['hos96'])\n",
    "\n",
    "Y_treat_pred = model_treat.predict(X_enc)\n",
    "Y_control_pred = model_control.predict(X_enc)"
   ]
  },
  {
   "cell_type": "code",
   "execution_count": 139,
   "metadata": {},
   "outputs": [
    {
     "data": {
      "image/png": "[encoded data removed]",
      "text/plain": [
       "<Figure size 432x288 with 1 Axes>"
      ]
     },
     "metadata": {
      "needs_background": "light"
     },
     "output_type": "display_data"
    }
   ],
   "source": [
    "import matplotlib.pyplot as plt\n",
    "\n",
    "x = np.arange(0, len(X_enc))\n",
    "plt.plot(x, Y_true, 'r', x, Y_treat_pred, 'b', x, Y_control_pred, 'g')\n",
    "plt.show()"
   ]
  },
  {
   "cell_type": "code",
   "execution_count": 164,
   "metadata": {},
   "outputs": [
    {
     "data": {
      "image/png": "[encoded data removed]",
      "text/plain": [
       "<Figure size 432x288 with 1 Axes>"
      ]
     },
     "metadata": {
      "needs_background": "light"
     },
     "output_type": "display_data"
    }
   ],
   "source": [
    "# explore what features matter for the predicted difference between control and treatment\n",
    "\n",
    "treat_features_enc = X_treat_enc[0, :]\n",
    "treat_matrix = np.tile(treat_features_enc, (len(covariates),1))\n",
    "np.fill_diagonal(treat_matrix, 0)\n",
    "treat_pred = model_treat.predict(treat_matrix)\n",
    "treat_true = Y_treat[0] * np.ones((len(treat_pred), 1))\n",
    "treat_err = np.abs(np.subtract(treat_true, treat_pred)/Y_treat[0])\n",
    "\n",
    "control_features_enc = X_control_enc[0, :]\n",
    "control_matrix = np.tile(control_features_enc, (len(covariates),1))\n",
    "np.fill_diagonal(control_matrix, 0)\n",
    "control_pred = model_treat.predict(control_matrix)\n",
    "control_true = Y_control[0] * np.ones((len(control_pred), 1))\n",
    "control_err = np.abs(np.subtract(control_true, control_pred)/Y_control[0])\n",
    "\n",
    "x2 = np.arange(0, 9)\n",
    "plt.plot(x2, treat_err, 'b', x2, control_err, 'g')\n",
    "plt.xlabel(covariates)\n",
    "plt.show()\n",
    "\n",
    "# hos94 and age seem to be important predictors for treatment, but not very clear"
   ]
  },
  {
   "cell_type": "markdown",
   "metadata": {},
   "source": [
    "\n"
   ]
  }
 ],
 "metadata": {
  "kernelspec": {
   "display_name": "Python 3",
   "language": "python",
   "name": "python3"
  },
  "language_info": {
   "codemirror_mode": {
    "name": "ipython",
    "version": 3
   },
   "file_extension": ".py",
   "mimetype": "text/x-python",
   "name": "python",
   "nbconvert_exporter": "python",
   "pygments_lexer": "ipython3",
   "version": "3.7.7"
  }
 },
 "nbformat": 4,
 "nbformat_minor": 4
}
