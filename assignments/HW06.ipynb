{
 "cells": [
  {
   "cell_type": "markdown",
   "metadata": {},
   "source": [
    "# HW06: Python \n",
    "(due November 3rd)"
   ]
  },
  {
   "cell_type": "markdown",
   "metadata": {},
   "source": [
    "# Heterogeneous Treatment Effects with Keras MLP"
   ]
  },
  {
   "cell_type": "code",
   "execution_count": 15,
   "metadata": {},
   "outputs": [],
   "source": [
    "import pandas as pd\n",
    "import warnings\n",
    "warnings.filterwarnings('ignore')\n",
    "\n",
    "from tensorflow import keras"
   ]
  },
  {
   "cell_type": "code",
   "execution_count": 16,
   "metadata": {},
   "outputs": [
    {
     "data": {
      "text/plain": [
       "{'trialid': 'Trial ID',\n",
       " 'centreid': 'Trial centre',\n",
       " 'status': 'Patient status at baseline',\n",
       " 'age': 'Age in years at baseline',\n",
       " 'sex': 'Sex',\n",
       " 'afcarib': 'Ethnic group',\n",
       " 'ocfabth': \"Father's social class at birth\",\n",
       " 'chron1l': 'Months since onset of psychosis, logged',\n",
       " 'hos94': 'Days in hospital for psychiatric reasons: 2 years before baseline',\n",
       " 'cprs94': 'Psychopathology at baseline (CPRS)',\n",
       " 'das94': 'Disability at baseline (DAS)',\n",
       " 'sat94': '(Dis)satisfaction with services at baseline',\n",
       " 'rand': 'Randomised group',\n",
       " 'hos96': 'Days in hospital for psychiatric reasons: 2 years after baseline',\n",
       " 'cprs96': 'Psychopathology at 2 years (CPRS)',\n",
       " 'sat96': '(Dis)satisfaction with services at 2 years'}"
      ]
     },
     "execution_count": 16,
     "metadata": {},
     "output_type": "execute_result"
    }
   ],
   "source": [
    "# Dataset on RCT study of case management on mental health outcomes\n",
    "\n",
    "# show variable labels\n",
    "pd.read_stata('http://www.homepages.ucl.ac.uk/~rmjwiww/stata/missing/uk500.dta', iterator=True).variable_labels()"
   ]
  },
  {
   "cell_type": "code",
   "execution_count": 17,
   "metadata": {},
   "outputs": [
    {
     "name": "stdout",
     "output_type": "stream",
     "text": [
      "<class 'pandas.core.frame.DataFrame'>\n",
      "Int64Index: 500 entries, 0 to 499\n",
      "Data columns (total 16 columns):\n",
      " #   Column    Non-Null Count  Dtype   \n",
      "---  ------    --------------  -----   \n",
      " 0   trialid   500 non-null    float64 \n",
      " 1   centreid  500 non-null    category\n",
      " 2   status    500 non-null    category\n",
      " 3   age       500 non-null    float64 \n",
      " 4   sex       500 non-null    category\n",
      " 5   afcarib   500 non-null    category\n",
      " 6   ocfabth   413 non-null    category\n",
      " 7   chron1l   500 non-null    float32 \n",
      " 8   hos94     500 non-null    float64 \n",
      " 9   cprs94    500 non-null    float64 \n",
      " 10  das94     489 non-null    float64 \n",
      " 11  sat94     399 non-null    float64 \n",
      " 12  rand      500 non-null    category\n",
      " 13  hos96     477 non-null    float64 \n",
      " 14  cprs96    421 non-null    float64 \n",
      " 15  sat96     349 non-null    float64 \n",
      "dtypes: category(6), float32(1), float64(9)\n",
      "memory usage: 44.7 KB\n"
     ]
    }
   ],
   "source": [
    "# Load data \n",
    "df = pd.read_stata('http://www.homepages.ucl.ac.uk/~rmjwiww/stata/missing/uk500.dta')\n",
    "df.info()"
   ]
  },
  {
   "cell_type": "code",
   "execution_count": 18,
   "metadata": {},
   "outputs": [
    {
     "data": {
      "text/html": [
       "<div>\n",
       "<style scoped>\n",
       "    .dataframe tbody tr th:only-of-type {\n",
       "        vertical-align: middle;\n",
       "    }\n",
       "\n",
       "    .dataframe tbody tr th {\n",
       "        vertical-align: top;\n",
       "    }\n",
       "\n",
       "    .dataframe thead th {\n",
       "        text-align: right;\n",
       "    }\n",
       "</style>\n",
       "<table border=\"1\" class=\"dataframe\">\n",
       "  <thead>\n",
       "    <tr style=\"text-align: right;\">\n",
       "      <th></th>\n",
       "      <th>sat96</th>\n",
       "      <th>hos96</th>\n",
       "      <th>cprs96</th>\n",
       "    </tr>\n",
       "  </thead>\n",
       "  <tbody>\n",
       "    <tr>\n",
       "      <th>count</th>\n",
       "      <td>349.000000</td>\n",
       "      <td>477.000000</td>\n",
       "      <td>421.000000</td>\n",
       "    </tr>\n",
       "    <tr>\n",
       "      <th>mean</th>\n",
       "      <td>17.102794</td>\n",
       "      <td>72.463312</td>\n",
       "      <td>18.624924</td>\n",
       "    </tr>\n",
       "    <tr>\n",
       "      <th>std</th>\n",
       "      <td>4.730995</td>\n",
       "      <td>113.007423</td>\n",
       "      <td>13.583216</td>\n",
       "    </tr>\n",
       "    <tr>\n",
       "      <th>min</th>\n",
       "      <td>9.000000</td>\n",
       "      <td>0.000000</td>\n",
       "      <td>0.000000</td>\n",
       "    </tr>\n",
       "    <tr>\n",
       "      <th>25%</th>\n",
       "      <td>13.500000</td>\n",
       "      <td>0.000000</td>\n",
       "      <td>8.000000</td>\n",
       "    </tr>\n",
       "    <tr>\n",
       "      <th>50%</th>\n",
       "      <td>17.000000</td>\n",
       "      <td>22.000000</td>\n",
       "      <td>16.000000</td>\n",
       "    </tr>\n",
       "    <tr>\n",
       "      <th>75%</th>\n",
       "      <td>20.000000</td>\n",
       "      <td>98.000000</td>\n",
       "      <td>27.000000</td>\n",
       "    </tr>\n",
       "    <tr>\n",
       "      <th>max</th>\n",
       "      <td>32.000000</td>\n",
       "      <td>725.000000</td>\n",
       "      <td>71.000000</td>\n",
       "    </tr>\n",
       "  </tbody>\n",
       "</table>\n",
       "</div>"
      ],
      "text/plain": [
       "            sat96       hos96      cprs96\n",
       "count  349.000000  477.000000  421.000000\n",
       "mean    17.102794   72.463312   18.624924\n",
       "std      4.730995  113.007423   13.583216\n",
       "min      9.000000    0.000000    0.000000\n",
       "25%     13.500000    0.000000    8.000000\n",
       "50%     17.000000   22.000000   16.000000\n",
       "75%     20.000000   98.000000   27.000000\n",
       "max     32.000000  725.000000   71.000000"
      ]
     },
     "execution_count": 18,
     "metadata": {},
     "output_type": "execute_result"
    }
   ],
   "source": [
    "# the post-treatment outcomes to analyze\n",
    "outcomes = ['sat96', 'hos96', 'cprs96']\n",
    "df[outcomes].describe()"
   ]
  },
  {
   "cell_type": "code",
   "execution_count": 19,
   "metadata": {},
   "outputs": [
    {
     "data": {
      "text/plain": [
       "Intensive case management    251\n",
       "Standard case management     249\n",
       "Name: rand, dtype: int64"
      ]
     },
     "execution_count": 19,
     "metadata": {},
     "output_type": "execute_result"
    }
   ],
   "source": [
    "# variable describing treatment status\n",
    "treatvar = 'rand'\n",
    "df[treatvar].value_counts()"
   ]
  },
  {
   "cell_type": "code",
   "execution_count": 21,
   "metadata": {},
   "outputs": [
    {
     "data": {
      "text/html": [
       "<div>\n",
       "<style scoped>\n",
       "    .dataframe tbody tr th:only-of-type {\n",
       "        vertical-align: middle;\n",
       "    }\n",
       "\n",
       "    .dataframe tbody tr th {\n",
       "        vertical-align: top;\n",
       "    }\n",
       "\n",
       "    .dataframe thead th {\n",
       "        text-align: right;\n",
       "    }\n",
       "</style>\n",
       "<table border=\"1\" class=\"dataframe\">\n",
       "  <thead>\n",
       "    <tr style=\"text-align: right;\">\n",
       "      <th></th>\n",
       "      <th>sat94</th>\n",
       "      <th>hos94</th>\n",
       "      <th>das94</th>\n",
       "      <th>cprs94</th>\n",
       "      <th>age</th>\n",
       "    </tr>\n",
       "  </thead>\n",
       "  <tbody>\n",
       "    <tr>\n",
       "      <th>count</th>\n",
       "      <td>399.000000</td>\n",
       "      <td>500.000000</td>\n",
       "      <td>489.000000</td>\n",
       "      <td>500.000000</td>\n",
       "      <td>500.000000</td>\n",
       "    </tr>\n",
       "    <tr>\n",
       "      <th>mean</th>\n",
       "      <td>19.103697</td>\n",
       "      <td>105.774000</td>\n",
       "      <td>1.170811</td>\n",
       "      <td>19.354775</td>\n",
       "      <td>38.096000</td>\n",
       "    </tr>\n",
       "    <tr>\n",
       "      <th>std</th>\n",
       "      <td>4.717492</td>\n",
       "      <td>109.528114</td>\n",
       "      <td>0.854318</td>\n",
       "      <td>12.860531</td>\n",
       "      <td>11.630017</td>\n",
       "    </tr>\n",
       "    <tr>\n",
       "      <th>min</th>\n",
       "      <td>9.000000</td>\n",
       "      <td>1.000000</td>\n",
       "      <td>0.000000</td>\n",
       "      <td>0.000000</td>\n",
       "      <td>19.000000</td>\n",
       "    </tr>\n",
       "    <tr>\n",
       "      <th>25%</th>\n",
       "      <td>16.000000</td>\n",
       "      <td>30.000000</td>\n",
       "      <td>0.500000</td>\n",
       "      <td>10.000000</td>\n",
       "      <td>29.000000</td>\n",
       "    </tr>\n",
       "    <tr>\n",
       "      <th>50%</th>\n",
       "      <td>19.000000</td>\n",
       "      <td>68.500000</td>\n",
       "      <td>1.000000</td>\n",
       "      <td>17.000000</td>\n",
       "      <td>36.000000</td>\n",
       "    </tr>\n",
       "    <tr>\n",
       "      <th>75%</th>\n",
       "      <td>22.000000</td>\n",
       "      <td>150.000000</td>\n",
       "      <td>1.666666</td>\n",
       "      <td>26.000000</td>\n",
       "      <td>46.000000</td>\n",
       "    </tr>\n",
       "    <tr>\n",
       "      <th>max</th>\n",
       "      <td>36.000000</td>\n",
       "      <td>730.000000</td>\n",
       "      <td>4.750000</td>\n",
       "      <td>79.000000</td>\n",
       "      <td>65.000000</td>\n",
       "    </tr>\n",
       "  </tbody>\n",
       "</table>\n",
       "</div>"
      ],
      "text/plain": [
       "            sat94       hos94       das94      cprs94         age\n",
       "count  399.000000  500.000000  489.000000  500.000000  500.000000\n",
       "mean    19.103697  105.774000    1.170811   19.354775   38.096000\n",
       "std      4.717492  109.528114    0.854318   12.860531   11.630017\n",
       "min      9.000000    1.000000    0.000000    0.000000   19.000000\n",
       "25%     16.000000   30.000000    0.500000   10.000000   29.000000\n",
       "50%     19.000000   68.500000    1.000000   17.000000   36.000000\n",
       "75%     22.000000  150.000000    1.666666   26.000000   46.000000\n",
       "max     36.000000  730.000000    4.750000   79.000000   65.000000"
      ]
     },
     "execution_count": 21,
     "metadata": {},
     "output_type": "execute_result"
    }
   ],
   "source": [
    "# covariates for predicting the outcome conditional on treatment\n",
    "covariates = ['status', 'sex', 'sat94', 'ocfabth', 'hos94', 'das94', 'cprs94', 'age', 'afcarib']\n",
    "df[covariates].describe()"
   ]
  },
  {
   "cell_type": "code",
   "execution_count": 37,
   "metadata": {},
   "outputs": [],
   "source": [
    "# Subset the dataset by treatment (intensive) and control (standard)\n",
    "df_treat = df[df[treatvar] == \"Intensive case management\"].dropna()\n",
    "df_control = df[df[treatvar] == \"Standard case management\"].dropna()"
   ]
  },
  {
   "cell_type": "code",
   "execution_count": 45,
   "metadata": {},
   "outputs": [],
   "source": [
    "# build an MLP model with at least 2 hidden layers, ReLU activation, batch normalization, dropout\n",
    "from tensorflow.keras.callbacks import EarlyStopping\n",
    "from tensorflow.keras.layers import Dropout, Dense, BatchNormalization\n",
    "\n",
    "num_features = len(covariates)\n",
    "num_classes = 1\n",
    "\n",
    "# NOTE: I originally used BatchNormalization and Dropout, but this seemed to constrain the predictions to very low values\n",
    "\n",
    "# Treatment model\n",
    "model_treat = keras.models.Sequential()\n",
    "# Input layer \n",
    "model_treat.add(Dense(100, input_dim=num_features, activation='relu'))\n",
    "# model_treat.add(BatchNormalization())\n",
    "# model_treat.add(Dropout(0.5))\n",
    "# Hidden layer 1\n",
    "model_treat.add(Dense(50, activation='relu'))\n",
    "# model_treat.add(BatchNormalization())\n",
    "# model_treat.add(Dropout(0.5))\n",
    "# Hidden layer 2\n",
    "model_treat.add(Dense(10, activation='relu'))\n",
    "# model_treat.add(BatchNormalization())\n",
    "# model_treat.add(Dropout(0.5))\n",
    "# Output layer \n",
    "model_treat.add(Dense(num_classes))\n",
    "\n",
    "# Cntrol model\n",
    "model_control = keras.models.Sequential()\n",
    "# Input layer \n",
    "model_control.add(Dense(100, input_dim=num_features, activation='relu'))\n",
    "# model_control.add(BatchNormalization())\n",
    "# model_control.add(Dropout(0.5))\n",
    "# Hidden layer 1\n",
    "model_control.add(Dense(50, activation='relu'))\n",
    "# model_control.add(BatchNormalization())\n",
    "# model_control.add(Dropout(0.5))\n",
    "# Hidden layer 2\n",
    "model_control.add(Dense(10, activation='relu'))\n",
    "# model_control.add(BatchNormalization())\n",
    "# model_control.add(Dropout(0.5))\n",
    "# Output layer \n",
    "model_control.add(Dense(num_classes))\n"
   ]
  },
  {
   "cell_type": "code",
   "execution_count": 46,
   "metadata": {},
   "outputs": [],
   "source": [
    "# compile the model\n",
    "model_treat.compile(loss='mean_squared_error', optimizer='adam', metrics=['mean_squared_error'])\n",
    "model_control.compile(loss='mean_squared_error', optimizer='adam', metrics=['mean_squared_error'])"
   ]
  },
  {
   "cell_type": "code",
   "execution_count": 47,
   "metadata": {},
   "outputs": [],
   "source": [
    "from sklearn.preprocessing import OrdinalEncoder\n",
    "import numpy as np\n",
    "\n",
    "oe = OrdinalEncoder()\n",
    "\n",
    "X_treat_enc = oe.fit_transform(np.array(df_treat[covariates]))\n",
    "Y_treat = np.array(df_treat['hos96'])\n",
    "\n",
    "X_control_enc = oe.fit_transform(np.array(df_control[covariates]))\n",
    "Y_control = np.array(df_control['hos96'])"
   ]
  },
  {
   "cell_type": "code",
   "execution_count": 48,
   "metadata": {},
   "outputs": [
    {
     "name": "stdout",
     "output_type": "stream",
     "text": [
      "Train on 104 samples, validate on 26 samples\n",
      "Epoch 1/10\n",
      "104/104 [==============================] - 1s 10ms/sample - loss: 16703.9608 - mean_squared_error: 16703.9590 - val_loss: 7652.2454 - val_mean_squared_error: 7652.2451\n",
      "Epoch 2/10\n",
      "104/104 [==============================] - 0s 483us/sample - loss: 15260.3147 - mean_squared_error: 15260.3145 - val_loss: 7025.1306 - val_mean_squared_error: 7025.1304\n",
      "Epoch 3/10\n",
      "104/104 [==============================] - 0s 463us/sample - loss: 14155.1833 - mean_squared_error: 14155.1836 - val_loss: 6299.3198 - val_mean_squared_error: 6299.3198\n",
      "Epoch 4/10\n",
      "104/104 [==============================] - 0s 669us/sample - loss: 13173.2056 - mean_squared_error: 13173.2051 - val_loss: 5580.9380 - val_mean_squared_error: 5580.9385\n",
      "Epoch 5/10\n",
      "104/104 [==============================] - 0s 483us/sample - loss: 12126.0892 - mean_squared_error: 12126.0879 - val_loss: 5152.7287 - val_mean_squared_error: 5152.7290\n",
      "Epoch 6/10\n",
      "104/104 [==============================] - 0s 546us/sample - loss: 11553.0913 - mean_squared_error: 11553.0898 - val_loss: 5047.0823 - val_mean_squared_error: 5047.0825\n",
      "Epoch 7/10\n",
      "104/104 [==============================] - 0s 473us/sample - loss: 11344.9675 - mean_squared_error: 11344.9678 - val_loss: 5060.1937 - val_mean_squared_error: 5060.1934\n",
      "Epoch 8/10\n",
      "104/104 [==============================] - 0s 580us/sample - loss: 11305.0423 - mean_squared_error: 11305.0410 - val_loss: 5044.1423 - val_mean_squared_error: 5044.1426\n",
      "Epoch 9/10\n",
      "104/104 [==============================] - 0s 526us/sample - loss: 11249.5764 - mean_squared_error: 11249.5771 - val_loss: 4996.2769 - val_mean_squared_error: 4996.2769\n",
      "Epoch 10/10\n",
      "104/104 [==============================] - 0s 636us/sample - loss: 11254.1056 - mean_squared_error: 11254.1055 - val_loss: 4962.8183 - val_mean_squared_error: 4962.8184\n",
      "Train on 92 samples, validate on 24 samples\n",
      "Epoch 1/10\n",
      "92/92 [==============================] - 1s 12ms/sample - loss: 10410.7591 - mean_squared_error: 10410.7588 - val_loss: 29551.2804 - val_mean_squared_error: 29551.2812\n",
      "Epoch 2/10\n",
      "92/92 [==============================] - 0s 509us/sample - loss: 9216.5108 - mean_squared_error: 9216.5107 - val_loss: 27695.0579 - val_mean_squared_error: 27695.0566\n",
      "Epoch 3/10\n",
      "92/92 [==============================] - 0s 403us/sample - loss: 8052.8600 - mean_squared_error: 8052.8599 - val_loss: 25860.1981 - val_mean_squared_error: 25860.1973\n",
      "Epoch 4/10\n",
      "92/92 [==============================] - 0s 418us/sample - loss: 7067.5295 - mean_squared_error: 7067.5298 - val_loss: 23993.9659 - val_mean_squared_error: 23993.9668\n",
      "Epoch 5/10\n",
      "92/92 [==============================] - 0s 458us/sample - loss: 6459.9462 - mean_squared_error: 6459.9458 - val_loss: 22935.5287 - val_mean_squared_error: 22935.5293\n",
      "Epoch 6/10\n",
      "92/92 [==============================] - 0s 386us/sample - loss: 6375.0141 - mean_squared_error: 6375.0137 - val_loss: 22845.8144 - val_mean_squared_error: 22845.8145\n",
      "Epoch 7/10\n",
      "92/92 [==============================] - 0s 448us/sample - loss: 6401.7739 - mean_squared_error: 6401.7739 - val_loss: 23049.2496 - val_mean_squared_error: 23049.2500\n",
      "Epoch 8/10\n",
      "92/92 [==============================] - 0s 506us/sample - loss: 6293.7566 - mean_squared_error: 6293.7568 - val_loss: 22685.1691 - val_mean_squared_error: 22685.1660\n",
      "Epoch 9/10\n",
      "92/92 [==============================] - 0s 647us/sample - loss: 6452.9596 - mean_squared_error: 6452.9600 - val_loss: 22396.6391 - val_mean_squared_error: 22396.6406\n",
      "Epoch 10/10\n",
      "92/92 [==============================] - 0s 469us/sample - loss: 6317.5697 - mean_squared_error: 6317.5693 - val_loss: 22779.1584 - val_mean_squared_error: 22779.1582\n"
     ]
    },
    {
     "data": {
      "text/plain": [
       "<tensorflow.python.keras.callbacks.History at 0x1528e148988>"
      ]
     },
     "execution_count": 48,
     "metadata": {},
     "output_type": "execute_result"
    }
   ],
   "source": [
    "# choose one of the three outcomes to analyze.\n",
    "# fit separate models on the treatment dataset and control dataset\n",
    "# use early stopping\n",
    "\n",
    "earlystop = EarlyStopping(monitor='loss', patience=3)\n",
    "model_treat.fit(X_treat_enc, Y_treat, epochs=10, batch_size=10, verbose=1, validation_split=0.2, callbacks=[earlystop])\n",
    "model_control.fit(X_control_enc, Y_control, epochs=10, batch_size=10, verbose=1, validation_split=0.2, callbacks=[earlystop])"
   ]
  },
  {
   "cell_type": "code",
   "execution_count": 49,
   "metadata": {},
   "outputs": [],
   "source": [
    "# form predicted outcomes for each individual, for both control and treatment\n",
    "df_dropna = df.dropna()\n",
    "X_enc = oe.fit_transform(np.array(df_dropna[covariates]))\n",
    "Y_true = np.array(df_dropna['hos96'])\n",
    "\n",
    "Y_treat_pred = model_treat.predict(X_enc)\n",
    "Y_control_pred = model_control.predict(X_enc)"
   ]
  },
  {
   "cell_type": "code",
   "execution_count": 50,
   "metadata": {},
   "outputs": [
    {
     "data": {
      "image/png": "[encoded data removed]",
      "text/plain": [
       "<Figure size 432x288 with 1 Axes>"
      ]
     },
     "metadata": {
      "needs_background": "light"
     },
     "output_type": "display_data"
    }
   ],
   "source": [
    "import matplotlib.pyplot as plt\n",
    "\n",
    "x = np.arange(0, len(X_enc))\n",
    "plt.plot(x, Y_true, 'r', x, Y_treat_pred, 'b', x, Y_control_pred, 'g')\n",
    "plt.show()\n",
    "\n",
    "# Interesting visualization showing the predictions are somewhat bounded... not sure why this is"
   ]
  },
  {
   "cell_type": "code",
   "execution_count": 54,
   "metadata": {},
   "outputs": [
    {
     "data": {
      "image/png": "[encoded data removed]",
      "text/plain": [
       "<Figure size 432x288 with 1 Axes>"
      ]
     },
     "metadata": {
      "needs_background": "light"
     },
     "output_type": "display_data"
    }
   ],
   "source": [
    "# explore what features matter for the predicted difference between control and treatment\n",
    "\n",
    "# Attemping to implement method discussed in class where one feature is set to 0 and the impact on the output is measured\n",
    "\n",
    "treat_features_enc = X_treat_enc[0, :]\n",
    "treat_matrix = np.tile(treat_features_enc, (len(covariates),1))\n",
    "np.fill_diagonal(treat_matrix, 0)\n",
    "treat_pred = model_treat.predict(treat_matrix)\n",
    "treat_true = Y_treat[0] * np.ones((len(treat_pred), 1))\n",
    "treat_err = np.abs(np.subtract(treat_true, treat_pred)/Y_treat[0])\n",
    "\n",
    "control_features_enc = X_control_enc[0, :]\n",
    "control_matrix = np.tile(control_features_enc, (len(covariates),1))\n",
    "np.fill_diagonal(control_matrix, 0)\n",
    "control_pred = model_treat.predict(control_matrix)\n",
    "control_true = Y_control[0] * np.ones((len(control_pred), 1))\n",
    "control_err = np.abs(np.subtract(control_true, control_pred)/Y_control[0])\n",
    "\n",
    "x2 = np.arange(0, 9)\n",
    "plt.plot(x2, treat_err, 'b', x2, control_err, 'g')\n",
    "plt.xlabel(covariates)\n",
    "plt.show()\n",
    "\n",
    "# Discussion: variables where higher errors occured would indicate that they are more important for the model\n",
    "# --> status, sex, ocfabth, age for Treatment\n",
    "# --> hos94, cprs94 for Control"
   ]
  },
  {
   "cell_type": "markdown",
   "metadata": {},
   "source": [
    "\n"
   ]
  }
 ],
 "metadata": {
  "kernelspec": {
   "display_name": "Python 3",
   "language": "python",
   "name": "python3"
  },
  "language_info": {
   "codemirror_mode": {
    "name": "ipython",
    "version": 3
   },
   "file_extension": ".py",
   "mimetype": "text/x-python",
   "name": "python",
   "nbconvert_exporter": "python",
   "pygments_lexer": "ipython3",
   "version": "3.7.7"
  }
 },
 "nbformat": 4,
 "nbformat_minor": 4
}
